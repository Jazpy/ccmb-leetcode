{
 "cells": [
  {
   "cell_type": "markdown",
   "id": "17a028ee",
   "metadata": {},
   "source": [
    "# 1232. Check If It Is a Straight Line\n",
    "\n",
    "Notes:\n",
    "\n",
    "$\\frac{y_1 - y_0}{x_1 - x_0} == \\frac{y_2 - y_1}{x_2 - x_1}$ is equivelant to $(y_1 - y_0)(x_2 - x_1) == (y_2 - y_1)(x_1 - x_0)$"
   ]
  },
  {
   "cell_type": "code",
   "execution_count": 16,
   "id": "250bc86d",
   "metadata": {},
   "outputs": [],
   "source": [
    "def checkStraightLine(coordinates: list[list[int]]) -> bool:\n",
    "    '''\n",
    "    Return True if the coordinates make a straight line,\n",
    "    return False otherwise.\n",
    "    '''\n",
    "    # Extract the points.\n",
    "    x0, y0 = coordinates[0]\n",
    "    x1, y1 = coordinates[1]\n",
    "    # Compute the differences.\n",
    "    x_diff = (x1 - x0)\n",
    "    y_diff = (y1 - y0)\n",
    "    # Intialize the return.\n",
    "    ret = []\n",
    "    # For every pair of coordinates.\n",
    "    for i in range(len(coordinates)):\n",
    "        # Extract the points.\n",
    "        c_x, c_y = coordinates[i]\n",
    "        # Check if the slopes are equivelent.\n",
    "        ret.append((c_x - x0) * y_diff == (c_y - y0) * x_diff)\n",
    "    return all(ret)"
   ]
  },
  {
   "cell_type": "code",
   "execution_count": 17,
   "id": "fd350658",
   "metadata": {},
   "outputs": [
    {
     "name": "stdout",
     "output_type": "stream",
     "text": [
      "True\n",
      "False\n",
      "True\n"
     ]
    }
   ],
   "source": [
    "# Run sanity chekcs.\n",
    "coord_list = [\n",
    "    [[1,2],[2,3],[3,4],[4,5],[5,6],[6,7]],\n",
    "    [[1,1],[2,2],[3,4],[4,5],[5,6],[7,7]],\n",
    "    [[0,0],[0,1],[0,-1]],\n",
    "]\n",
    "for coords in coord_list:\n",
    "    print(checkStraightLine(coords))"
   ]
  },
  {
   "cell_type": "code",
   "execution_count": null,
   "id": "3a581a6a",
   "metadata": {},
   "outputs": [],
   "source": []
  }
 ],
 "metadata": {
  "kernelspec": {
   "display_name": "Python 3 (ipykernel)",
   "language": "python",
   "name": "python3"
  },
  "language_info": {
   "codemirror_mode": {
    "name": "ipython",
    "version": 3
   },
   "file_extension": ".py",
   "mimetype": "text/x-python",
   "name": "python",
   "nbconvert_exporter": "python",
   "pygments_lexer": "ipython3",
   "version": "3.9.15"
  }
 },
 "nbformat": 4,
 "nbformat_minor": 5
}
