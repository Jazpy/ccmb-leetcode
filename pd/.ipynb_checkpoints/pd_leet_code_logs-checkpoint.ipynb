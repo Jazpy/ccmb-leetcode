{
 "cells": [
  {
   "cell_type": "markdown",
   "id": "17a028ee",
   "metadata": {},
   "source": [
    "# 1232. Check If It Is a Straight Line\n",
    "\n",
    "Notes:\n",
    "\n",
    "$\\frac{y_1 - y_0}{x_1 - x_0} == \\frac{y_2 - y_1}{x_2 - x_1}$ is equivelant to $(y_1 - y_0)(x_2 - x_1) == (y_2 - y_1)(x_1 - x_0)$"
   ]
  },
  {
   "cell_type": "code",
   "execution_count": 1,
   "id": "250bc86d",
   "metadata": {},
   "outputs": [],
   "source": [
    "def checkStraightLine(coordinates: list[list[int]]) -> bool:\n",
    "    '''\n",
    "    Return True if the coordinates make a straight line,\n",
    "    return False otherwise.\n",
    "    '''\n",
    "    # Extract the points.\n",
    "    x0, y0 = coordinates[0]\n",
    "    x1, y1 = coordinates[1]\n",
    "    # Compute the differences.\n",
    "    x_diff = (x1 - x0)\n",
    "    y_diff = (y1 - y0)\n",
    "    # Intialize the return.\n",
    "    ret = []\n",
    "    # For every pair of coordinates.\n",
    "    for i in range(len(coordinates)):\n",
    "        # Extract the points.\n",
    "        c_x, c_y = coordinates[i]\n",
    "        # Check if the slopes are equivelent.\n",
    "        ret.append((c_x - x0) * y_diff == (c_y - y0) * x_diff)\n",
    "    return all(ret)"
   ]
  },
  {
   "cell_type": "code",
   "execution_count": 2,
   "id": "fd350658",
   "metadata": {},
   "outputs": [
    {
     "name": "stdout",
     "output_type": "stream",
     "text": [
      "True\n",
      "False\n",
      "True\n"
     ]
    }
   ],
   "source": [
    "# Run sanity chekcs.\n",
    "coord_list = [\n",
    "    [[1,2],[2,3],[3,4],[4,5],[5,6],[6,7]],\n",
    "    [[1,1],[2,2],[3,4],[4,5],[5,6],[7,7]],\n",
    "    [[0,0],[0,1],[0,-1]],\n",
    "]\n",
    "for coords in coord_list:\n",
    "    print(checkStraightLine(coords))"
   ]
  },
  {
   "cell_type": "markdown",
   "id": "e4904221",
   "metadata": {},
   "source": [
    "# 1502. Can Make Arithmetic Progression From Sequence"
   ]
  },
  {
   "cell_type": "code",
   "execution_count": 3,
   "id": "5c2a601d",
   "metadata": {},
   "outputs": [],
   "source": [
    "def canMakeArithmeticProgression(arr: list[int]) -> bool:\n",
    "    '''\n",
    "    Return True if the input list can be arranged into a\n",
    "    arithmetic progression return False otherwise.\n",
    "    '''\n",
    "    # Sort the list.\n",
    "    arr.sort()\n",
    "    # Find the first difference.\n",
    "    diff = arr[1] - arr[0]\n",
    "    # For all other values in the sorted list.\n",
    "    for i in range(1, len(arr)-1):\n",
    "        # If this is not and arithmetic progression.\n",
    "        if arr[i+1] - arr[i] != diff:\n",
    "            # Return False.\n",
    "            return False\n",
    "    return True"
   ]
  },
  {
   "cell_type": "code",
   "execution_count": 4,
   "id": "3ddd9fc0",
   "metadata": {},
   "outputs": [
    {
     "name": "stdout",
     "output_type": "stream",
     "text": [
      "True\n",
      "False\n"
     ]
    }
   ],
   "source": [
    "# Run sanity chekcs.\n",
    "arr_list = [\n",
    "    [3,5,1],\n",
    "    [1,2,4],\n",
    "]\n",
    "for arr in arr_list:\n",
    "    print(canMakeArithmeticProgression(arr))"
   ]
  }
 ],
 "metadata": {
  "kernelspec": {
   "display_name": "Python 3 (ipykernel)",
   "language": "python",
   "name": "python3"
  },
  "language_info": {
   "codemirror_mode": {
    "name": "ipython",
    "version": 3
   },
   "file_extension": ".py",
   "mimetype": "text/x-python",
   "name": "python",
   "nbconvert_exporter": "python",
   "pygments_lexer": "ipython3",
   "version": "3.9.15"
  }
 },
 "nbformat": 4,
 "nbformat_minor": 5
}
