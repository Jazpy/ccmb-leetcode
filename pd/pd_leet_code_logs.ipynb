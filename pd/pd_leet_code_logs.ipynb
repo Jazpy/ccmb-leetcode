{
 "cells": [
  {
   "cell_type": "markdown",
   "id": "17a028ee",
   "metadata": {},
   "source": [
    "# 1232. Check If It Is a Straight Line\n",
    "\n",
    "Notes:\n",
    "\n",
    "$\\frac{y_1 - y_0}{x_1 - x_0} == \\frac{y_2 - y_1}{x_2 - x_1}$ is equivelant to $(y_1 - y_0)(x_2 - x_1) == (y_2 - y_1)(x_1 - x_0)$"
   ]
  },
  {
   "cell_type": "code",
   "execution_count": 1,
   "id": "250bc86d",
   "metadata": {},
   "outputs": [],
   "source": [
    "def checkStraightLine(coordinates: list[list[int]]) -> bool:\n",
    "    \"\"\"\n",
    "    Return True if the coordinates make a straight line,\n",
    "    return False otherwise.\n",
    "    \"\"\"\n",
    "    # Extract the points.\n",
    "    x0, y0 = coordinates[0]\n",
    "    x1, y1 = coordinates[1]\n",
    "    # Compute the differences.\n",
    "    x_diff = x1 - x0\n",
    "    y_diff = y1 - y0\n",
    "    # Initialize the return.\n",
    "    ret = []\n",
    "    # For every pair of coordinates.\n",
    "    for i in range(len(coordinates)):\n",
    "        # Extract the points.\n",
    "        c_x, c_y = coordinates[i]\n",
    "        # Check if the slopes are equivalent.\n",
    "        ret.append((c_x - x0) * y_diff == (c_y - y0) * x_diff)\n",
    "    return all(ret)"
   ]
  },
  {
   "cell_type": "code",
   "execution_count": 2,
   "id": "fd350658",
   "metadata": {},
   "outputs": [
    {
     "name": "stdout",
     "output_type": "stream",
     "text": [
      "True\n",
      "False\n",
      "True\n"
     ]
    }
   ],
   "source": [
    "# Run sanity checks.\n",
    "coord_list = [\n",
    "    [[1, 2], [2, 3], [3, 4], [4, 5], [5, 6], [6, 7]],  # A: True\n",
    "    [[1, 1], [2, 2], [3, 4], [4, 5], [5, 6], [7, 7]],  # A: False\n",
    "    [[0, 0], [0, 1], [0, -1]],  # A: True\n",
    "]\n",
    "for coords in coord_list:\n",
    "    print(checkStraightLine(coords))"
   ]
  },
  {
   "cell_type": "markdown",
   "id": "e4904221",
   "metadata": {},
   "source": [
    "# 1502. Can Make Arithmetic Progression From Sequence"
   ]
  },
  {
   "cell_type": "code",
   "execution_count": 3,
   "id": "5c2a601d",
   "metadata": {},
   "outputs": [],
   "source": [
    "def canMakeArithmeticProgression(arr: list[int]) -> bool:\n",
    "    \"\"\"\n",
    "    Return True if the input list can be arranged into a\n",
    "    arithmetic progression return False otherwise.\n",
    "    \"\"\"\n",
    "    # Sort the list.\n",
    "    arr.sort()\n",
    "    # Find the first difference.\n",
    "    diff = arr[1] - arr[0]\n",
    "    # For all other values in the sorted list.\n",
    "    for i in range(1, len(arr) - 1):\n",
    "        # If this is not and arithmetic progression.\n",
    "        if arr[i + 1] - arr[i] != diff:\n",
    "            # Return False.\n",
    "            return False\n",
    "    return True"
   ]
  },
  {
   "cell_type": "code",
   "execution_count": 4,
   "id": "3ddd9fc0",
   "metadata": {},
   "outputs": [
    {
     "name": "stdout",
     "output_type": "stream",
     "text": [
      "True\n",
      "False\n"
     ]
    }
   ],
   "source": [
    "# Run sanity checks.\n",
    "arr_list = [\n",
    "    [3, 5, 1],  # A: True\n",
    "    [1, 2, 4],  # A: False\n",
    "]\n",
    "for arr in arr_list:\n",
    "    print(canMakeArithmeticProgression(arr))"
   ]
  },
  {
   "cell_type": "markdown",
   "id": "29561ecc",
   "metadata": {},
   "source": [
    "# 287. Find the Duplicate Number\n",
    "\n",
    "Notes:\n",
    "\n",
    "The expected sum of an arithematic sequence is: $\\frac{n \\times \\left(n + 1 \\right))}{2}$"
   ]
  },
  {
   "cell_type": "code",
   "execution_count": 5,
   "id": "9063a880",
   "metadata": {},
   "outputs": [],
   "source": [
    "class Solution:\n",
    "    ### Approach: obs(sum) - e(sub) ###\n",
    "\n",
    "    #     def findDuplicate(self, nums: list[int]) -> int:\n",
    "    #         '''\n",
    "    #         Return the duplicated integer in the arithmetic\n",
    "    #         sequence [1, n] with n + 1 integers.\n",
    "    #         '''\n",
    "    #         # Compute n.\n",
    "    #         n = len(nums) - 1\n",
    "    #         # Compute the expected sum.\n",
    "    #         exp_sum = (n * (n + 1)) // 2 # Floor divide to return int.\n",
    "    #         # Compute the observed sum.\n",
    "    #         obs_sum = sum(nums)\n",
    "    #         return obs_sum  - exp_sum\n",
    "\n",
    "    ### Approach: hash table ###\n",
    "\n",
    "    def findDuplicate(self, nums: list[int]) -> int:\n",
    "        \"\"\"\n",
    "        Return the duplicated integer in the arithmetic\n",
    "        sequence [1, n] with n + 1 integers.\n",
    "        \"\"\"\n",
    "        # Initialize seen set.\n",
    "        seen = set()\n",
    "        # For every num.\n",
    "        for num in nums:\n",
    "            # If the num is in the seen set.\n",
    "            if num in seen:\n",
    "                # Found the duplicate!\n",
    "                dup = num\n",
    "                break\n",
    "            # Else, add the num to the seen set.\n",
    "            seen.add(num)\n",
    "        return dup"
   ]
  },
  {
   "cell_type": "code",
   "execution_count": 6,
   "id": "6369214a",
   "metadata": {},
   "outputs": [
    {
     "name": "stdout",
     "output_type": "stream",
     "text": [
      "2\n",
      "3\n",
      "2\n"
     ]
    }
   ],
   "source": [
    "# Run sanity checks.\n",
    "nums_list = [\n",
    "    [1, 3, 4, 2, 2],  # A: 2\n",
    "    [3, 1, 3, 4, 2],  # A: 3\n",
    "    [2, 2, 2, 2, 2],  # A: 2\n",
    "]\n",
    "for nums in nums_list:\n",
    "    solution = Solution()\n",
    "    print(solution.findDuplicate(nums))"
   ]
  },
  {
   "cell_type": "markdown",
   "id": "caea708f",
   "metadata": {},
   "source": [
    "# 1048. Longest String Chain"
   ]
  },
  {
   "cell_type": "code",
   "execution_count": 7,
   "id": "39b47aac",
   "metadata": {},
   "outputs": [],
   "source": [
    "class Solution:\n",
    "    def longestStrChain(self, words: list[str]) -> int:\n",
    "        \"\"\"\n",
    "        Return the length of the longest word chain in words.\n",
    "        \"\"\"\n",
    "        # Sort the words by their length, such that we always\n",
    "        # check shorter words before longer words.\n",
    "        words.sort(key=len)\n",
    "        # Initialize a word chain dicc, where the key are\n",
    "        # the word in words and the value is the maximum\n",
    "        # word chain length for all possible word chain\n",
    "        # possibilities.\n",
    "        word_chain_dicc = {}\n",
    "        # For every word.\n",
    "        for word in words:\n",
    "            # Initialize the word chain entry.\n",
    "            word_chain_dicc[word] = 1\n",
    "            # Generate all possible potential predecessors.\n",
    "            for i in range(len(word)):\n",
    "                pot_pred = word[:i] + word[i + 1 :]\n",
    "                # If the potential predecessor is a valid predecessor,\n",
    "                # ie, the predecessor is already in the word chain.\n",
    "                if pot_pred in word_chain_dicc:\n",
    "                    # Update the maximum word chain length.\n",
    "                    word_chain_dicc[word] = max(\n",
    "                        word_chain_dicc[word], word_chain_dicc[pot_pred] + 1\n",
    "                    )\n",
    "        return max(word_chain_dicc.values())"
   ]
  },
  {
   "cell_type": "code",
   "execution_count": 8,
   "id": "ae16a992",
   "metadata": {},
   "outputs": [
    {
     "name": "stdout",
     "output_type": "stream",
     "text": [
      "4\n",
      "5\n",
      "1\n",
      "4\n"
     ]
    }
   ],
   "source": [
    "# Run sanity checks.\n",
    "words_list = [\n",
    "    [\"a\", \"b\", \"ba\", \"bca\", \"bda\", \"bdca\"],  # A: 4\n",
    "    [\"xbc\", \"pcxbcf\", \"xb\", \"cxbc\", \"pcxbc\"],  # A: 5\n",
    "    [\"abcd\", \"dbqca\"],  # A: 1\n",
    "    [\"a\", \"ab\", \"ac\", \"bd\", \"abc\", \"abd\", \"abdd\"],  # A: 4\n",
    "]\n",
    "for words in words_list:\n",
    "    solution = Solution()\n",
    "    print(solution.longestStrChain(words))"
   ]
  },
  {
   "cell_type": "markdown",
   "id": "950dd34d",
   "metadata": {},
   "source": [
    "# 799. Champagne Tower"
   ]
  },
  {
   "cell_type": "code",
   "execution_count": 9,
   "id": "1984ad16",
   "metadata": {},
   "outputs": [],
   "source": [
    "class Solution:\n",
    "    def champagneTower(self, poured: int, query_row: int, query_glass: int) -> float:\n",
    "        \"\"\"\n",
    "        Return the amount of champagne poured in the (query_row, query_glass)\n",
    "        glass in the champagne tower.\n",
    "        \"\"\"\n",
    "        # Initialize the tower, note it is slightly larger than\n",
    "        # exactly 100 glasses to account for large amounts of\n",
    "        # poured champagne.\n",
    "        tower = [[0.0] * k for k in range(1, 102)]\n",
    "        # Initialize the champagne in the top glass of the tower.\n",
    "        tower[0][0] = float(poured)\n",
    "        # For each row until the query row.\n",
    "        for row in range(query_row + 1):\n",
    "            # For every glass in the current row.\n",
    "            for glass in range(row + 1):\n",
    "                # Once a glass is filled exactly half the excess\n",
    "                # falls to the left and right.\n",
    "                excess = (tower[row][glass] - 1) / 2\n",
    "                # If there is any excess.\n",
    "                if excess > 0:\n",
    "                    # Pour the excess in the left and right glasses\n",
    "                    # on the next row.\n",
    "                    tower[row + 1][glass] += excess\n",
    "                    tower[row + 1][glass + 1] += excess\n",
    "        return min(1, tower[query_row][query_glass])"
   ]
  },
  {
   "cell_type": "code",
   "execution_count": 10,
   "id": "aa89895f",
   "metadata": {},
   "outputs": [
    {
     "name": "stdout",
     "output_type": "stream",
     "text": [
      "0.0\n",
      "0.5\n",
      "1\n",
      "0.0\n"
     ]
    }
   ],
   "source": [
    "# Run sanity checks.\n",
    "query_list = [\n",
    "    [1, 1, 1],  # A: 0\n",
    "    [2, 1, 1],  # A: 0.5\n",
    "    [100000009, 33, 17],  # A: 1\n",
    "    [1000000000, 99, 99],  # A\n",
    "]\n",
    "for query in query_list:\n",
    "    solution = Solution()\n",
    "    print(solution.champagneTower(query[0], query[1], query[2]))"
   ]
  },
  {
   "cell_type": "markdown",
   "id": "32695415",
   "metadata": {},
   "source": [
    "# 389. Find the Difference\n",
    "\n",
    "Notes:\n",
    " \n",
    " * The __Fundamental Theorem of Arithmetic__ says that every integer greater than 1 can be factored  uniquely into a product of primes.\n",
    " * __Euclid’s lemma__ says that if a prime divides a product of two numbers, it must divide at least one of the numbers."
   ]
  },
  {
   "cell_type": "code",
   "execution_count": 11,
   "id": "f56c3cbf",
   "metadata": {},
   "outputs": [],
   "source": [
    "class Solution:\n",
    "    def findTheDifference(self, s: str, t: str) -> str:\n",
    "        \"\"\"\n",
    "        Return the letter that is in set t but not set s, assuming that\n",
    "        s is a subset of t, and sets t and s only differ by one letter.\n",
    "        \"\"\"\n",
    "        # Initialize a map of all possible one letter differences\n",
    "        # (including the one letter case), to unique prime numbers.\n",
    "        letter2prime = {\n",
    "            \"a\": 2,\n",
    "            \"b\": 3,\n",
    "            \"c\": 5,\n",
    "            \"d\": 7,\n",
    "            \"e\": 11,\n",
    "            \"f\": 13,\n",
    "            \"g\": 17,\n",
    "            \"h\": 19,\n",
    "            \"i\": 23,\n",
    "            \"j\": 29,\n",
    "            \"k\": 31,\n",
    "            \"l\": 37,\n",
    "            \"m\": 41,\n",
    "            \"n\": 43,\n",
    "            \"o\": 47,\n",
    "            \"p\": 53,\n",
    "            \"q\": 59,\n",
    "            \"k\": 61,\n",
    "            \"s\": 67,\n",
    "            \"t\": 71,\n",
    "            \"u\": 73,\n",
    "            \"v\": 79,\n",
    "            \"w\": 83,\n",
    "            \"x\": 89,\n",
    "            \"y\": 97,\n",
    "            \"z\": 101,\n",
    "            \"\": 103,\n",
    "        }\n",
    "        # Initialize a map of all possible unique prime numbers to\n",
    "        # one letter differences (including the one letter case).\n",
    "        prime2letter = {\n",
    "            2: \"a\",\n",
    "            3: \"b\",\n",
    "            5: \"c\",\n",
    "            7: \"d\",\n",
    "            11: \"e\",\n",
    "            13: \"f\",\n",
    "            17: \"g\",\n",
    "            19: \"h\",\n",
    "            23: \"i\",\n",
    "            29: \"j\",\n",
    "            31: \"k\",\n",
    "            37: \"l\",\n",
    "            41: \"m\",\n",
    "            43: \"n\",\n",
    "            47: \"o\",\n",
    "            53: \"p\",\n",
    "            59: \"q\",\n",
    "            61: \"k\",\n",
    "            67: \"s\",\n",
    "            71: \"t\",\n",
    "            73: \"u\",\n",
    "            79: \"v\",\n",
    "            83: \"w\",\n",
    "            89: \"x\",\n",
    "            97: \"y\",\n",
    "            101: \"z\",\n",
    "            103: \"\",\n",
    "        }\n",
    "        # Given that s is a subset of t, the product of unique prime\n",
    "        # numbers in t is: Pi(t) = Pi(s) * t [eq1].\n",
    "        Pi_s = 1\n",
    "        for letter in s:\n",
    "            Pi_s *= letter2prime[letter]\n",
    "        Pi_t = 1\n",
    "        for letter in t:\n",
    "            Pi_t *= letter2prime[letter]\n",
    "        # Given that set t has one only more letter than set s,\n",
    "        # t = Pi(t) / Pi(s) = Pi(s) * t / Pi(s) [eq2].\n",
    "        quotient = int(Pi_t / Pi_s)\n",
    "        return prime2letter[quotient]"
   ]
  },
  {
   "cell_type": "code",
   "execution_count": 12,
   "id": "a1b5ebb6",
   "metadata": {},
   "outputs": [
    {
     "name": "stdout",
     "output_type": "stream",
     "text": [
      "e\n",
      "y\n"
     ]
    }
   ],
   "source": [
    "# Run sanity checks.\n",
    "st_list = [\n",
    "    [\"abcd\", \"abcde\"],  # A: e\n",
    "    [\"\", \"y\"],  # A: y\n",
    "]\n",
    "for st in st_list:\n",
    "    solution = Solution()\n",
    "    print(solution.findTheDifference(st[0], st[1]))"
   ]
  },
  {
   "cell_type": "markdown",
   "id": "ba0cec8f",
   "metadata": {},
   "source": [
    "# 316. Remove Duplicate Letters (NOT SOLVED)\n",
    "\n",
    "Notes:\n",
    " \n",
    " * Dave's first recursion :)\n",
    " * The __Fundamental Theorem of Arithmetic__ says that every integer greater than 1 can be factored  uniquely into a product of primes.\n",
    " * __Euclid’s lemma__ says that if a prime divides a product of two numbers, it must divide at least one of the numbers."
   ]
  },
  {
   "cell_type": "code",
   "execution_count": 13,
   "id": "e02d83eb",
   "metadata": {},
   "outputs": [],
   "source": [
    "class Solution:\n",
    "    ### Approach: recursion ###\n",
    "\n",
    "    def removeDuplicateLetters(self, s: str) -> str:\n",
    "        \"\"\"\n",
    "        Remove duplicate letters and return a string with only unique\n",
    "        letters sorted in the smallest possible lexicographical order.\n",
    "        \"\"\"\n",
    "        # Acount for the empty string case.\n",
    "        if not s:\n",
    "            return \"\"\n",
    "        # Initialize the unique letters in the string.\n",
    "        unique_letters = set(s)\n",
    "        # Initialize the possible solutions.\n",
    "        sols = []\n",
    "        # For every lexicographically sorted unique letter.\n",
    "        for letter in sorted(unique_letters):\n",
    "            # Find the first occurrence of that letter.\n",
    "            idx = s.index(letter)\n",
    "            # Initialize the sub string to the right of the first s, while\n",
    "            # removing any duplicate letters.\n",
    "            n_s = s[idx + 1 :].replace(letter, \"\")\n",
    "            # Recursively (and magically) find all possible solutions.\n",
    "            sol = letter + self.removeDuplicateLetters(n_s)\n",
    "            sols.append(sol)\n",
    "        # Return the smallest solution.\n",
    "        return min(sols)\n",
    "\n",
    "    ### Approach: prime factorization ###\n",
    "\n",
    "    def removeDuplicateLetters(self, s: str) -> str:\n",
    "        \"\"\"\n",
    "        Remove duplicate letters and return a string with only unique\n",
    "        letters sorted in the smallest possible lexicographical order.\n",
    "        \"\"\"\n",
    "        # Initialize a map of all possible one letter differences\n",
    "        # (including the one letter case), to unique prime numbers.\n",
    "        letter2prime = {\n",
    "            \"a\": 2,\n",
    "            \"b\": 3,\n",
    "            \"c\": 5,\n",
    "            \"d\": 7,\n",
    "            \"e\": 11,\n",
    "            \"f\": 13,\n",
    "            \"g\": 17,\n",
    "            \"h\": 19,\n",
    "            \"i\": 23,\n",
    "            \"j\": 29,\n",
    "            \"k\": 31,\n",
    "            \"l\": 37,\n",
    "            \"m\": 41,\n",
    "            \"n\": 43,\n",
    "            \"o\": 47,\n",
    "            \"p\": 53,\n",
    "            \"q\": 59,\n",
    "            \"k\": 61,\n",
    "            \"s\": 67,\n",
    "            \"t\": 71,\n",
    "            \"u\": 73,\n",
    "            \"v\": 79,\n",
    "            \"w\": 83,\n",
    "            \"x\": 89,\n",
    "            \"y\": 97,\n",
    "            \"z\": 101,\n",
    "            \"\": 103,\n",
    "        }\n",
    "        # Compute Pi(s).\n",
    "        Pi = 1\n",
    "        for letter in s:\n",
    "            Pi *= letter2prime[letter]\n",
    "        # Decompose the product into prime factors to get factors\n",
    "        factors = {}\n",
    "        # For every letter:prime sorted by the smallest prime number.\n",
    "        for letter, prime in letter2prime.items():\n",
    "            # Perform prime factorization or put another ways,\n",
    "            # determine the number of times each letter appears in s.\n",
    "            while Pi % prime == 0:\n",
    "                # If this is the first time we have seen this letter.\n",
    "                if letter not in factors:\n",
    "                    # Initialize the letter.\n",
    "                    factors[letter] = 1\n",
    "                # Else, this is a duplicate letter.\n",
    "                else:\n",
    "                    # Update the duplicate.\n",
    "                    factors[letter] += 1\n",
    "                # Reduce by a factor of prime\n",
    "                Pi //= prime\n",
    "        # Initialize the return.\n",
    "        ret = []\n",
    "        # For every letter sorted in lexicographical order.\n",
    "        for letter in sorted(factors.keys()):\n",
    "            if letter in s:\n",
    "                # Update the return\n",
    "                ret.append(letter)\n",
    "        return \"\".join(ret)"
   ]
  },
  {
   "cell_type": "code",
   "execution_count": 14,
   "id": "61c9f728",
   "metadata": {},
   "outputs": [
    {
     "name": "stdout",
     "output_type": "stream",
     "text": [
      "abc\n",
      "abcd\n"
     ]
    }
   ],
   "source": [
    "# Run sanity checks.\n",
    "s_list = [\n",
    "    \"bcabc\",  # A: 'abc'\n",
    "    \"cbacdcbc\",  # A: 'acdb'\n",
    "]\n",
    "for s in s_list:\n",
    "    solution = Solution()\n",
    "    print(solution.removeDuplicateLetters(s))"
   ]
  },
  {
   "cell_type": "markdown",
   "id": "ec0ae8f2",
   "metadata": {},
   "source": [
    "# 880. Decoded String at Index\n",
    "\n",
    "Notes:\n",
    "\n",
    "* writting == BAD; erasing == GOOD"
   ]
  },
  {
   "cell_type": "code",
   "execution_count": 15,
   "id": "ad591639",
   "metadata": {},
   "outputs": [],
   "source": [
    "class Solution:\n",
    "    ### Approach: brute fucking force (Memory Limit Exceeded) ###\n",
    "\n",
    "    def decodeAtIndex(self, s: str, k: int) -> str:\n",
    "        \"\"\"\n",
    "        Given an integer k, return the kth character (1-indexed) in the decoded string.\n",
    "        \"\"\"\n",
    "        # Initialize the tape for the decoded characters.\n",
    "        tape = []\n",
    "        # For every character in the encoded string.\n",
    "        for character in s:\n",
    "            # If the character is a letter.\n",
    "            if character.isalpha():\n",
    "                # Write the letter onto the tape.\n",
    "                tape.append(character)\n",
    "                # If the length of the letters on the tape is greater than or equal to k.\n",
    "                if len(tape) >= k:\n",
    "                    # Stop decoding the string.\n",
    "                    break\n",
    "            # Else the character is a digit.\n",
    "            else:\n",
    "                # Convert the type of the digit: str -> int.\n",
    "                d = int(character)\n",
    "                # Write the decoded letters repeatedly d - 1 more times in total\n",
    "                # ie repeat the decoded string d times.\n",
    "                tape = tape * d\n",
    "                # If the length of the letters on the tape is greater than or equal to k.\n",
    "                if len(tape) >= k:\n",
    "                    # Stop decoding the string.\n",
    "                    break\n",
    "        # Account for the k being 1-indexed.\n",
    "        return tape[k - 1]\n",
    "\n",
    "    ### Approach: sparkling brute force (Beats 100.00% of users with Python3) ###\n",
    "\n",
    "    def decodeAtIndex(self, s: str, k: int) -> str:\n",
    "        \"\"\"\n",
    "        Given an integer k, return the kth character (1-indexed) in the decoded string.\n",
    "        \"\"\"\n",
    "        # Instead of writing the decoded string on the tape, find the total length of\n",
    "        # the tape.\n",
    "        tape_len = 0\n",
    "        # For every character in the encoded string.\n",
    "        for character in s:\n",
    "            # If the the character is a digit.\n",
    "            if character.isdigit():\n",
    "                # Convert the type of the digit: str -> int.\n",
    "                d = int(character)\n",
    "                # The hypothetical decoded string would increase in length by a factor\n",
    "                # of d, ie we repeat the decoded string d times.\n",
    "                tape_len *= d\n",
    "            # Else the character is a letter.\n",
    "            else:\n",
    "                # The hypothetical decoded string would increase in length by one,\n",
    "                # ie we write down one more letter on the tape.\n",
    "                tape_len += 1\n",
    "        # Now because writing the decoded string on the tape was NOT memory efficient,\n",
    "        # lets effectively erase the letters of the decoded string until we reach kth\n",
    "        # character, by reducing the length of the tape to length k.\n",
    "        for character in reversed(s):\n",
    "            # Take the modulo of the tape length to make sure k is within the sub-string.\n",
    "            k %= tape_len\n",
    "            # If the tape length is zero and the character is a letter.\n",
    "            if k == 0 and character.isalpha():\n",
    "                # Return the kth character.\n",
    "                return character\n",
    "            # If the the character is a digit\n",
    "            if character.isdigit():\n",
    "                # Convert the type of the digit: str -> int.\n",
    "                d = int(character)\n",
    "                # The hypothetical decoded string would reduce in length by a factor\n",
    "                # of d, ie we erase the repeated decoded sub-string d times.\n",
    "                tape_len //= int(d)\n",
    "            # Else the character is a letter.\n",
    "            else:\n",
    "                # The hypothetical decoded string would decrease in length by one,\n",
    "                # ie we erase one more letter from the tape.\n",
    "                tape_len -= 1"
   ]
  },
  {
   "cell_type": "code",
   "execution_count": 16,
   "id": "12d4641a",
   "metadata": {},
   "outputs": [
    {
     "name": "stdout",
     "output_type": "stream",
     "text": [
      "o\n",
      "h\n",
      "a\n"
     ]
    }
   ],
   "source": [
    "# Run sanity checks.\n",
    "sk_list = [\n",
    "    [\"leet2code3\", 10],  # A: o\n",
    "    [\"ha22\", 5],  # A: h\n",
    "    [\"a2345678999999999999999\", 1],  # A: a\n",
    "]\n",
    "for sk in sk_list:\n",
    "    solution = Solution()\n",
    "    print(solution.decodeAtIndex(sk[0], sk[1]))"
   ]
  },
  {
   "cell_type": "markdown",
   "id": "7a8d2da6",
   "metadata": {},
   "source": [
    "# 905. Sort Array By Parity"
   ]
  },
  {
   "cell_type": "code",
   "execution_count": 17,
   "id": "2ddd4170",
   "metadata": {},
   "outputs": [],
   "source": [
    "class Solution:\n",
    "    def sortArrayByParity(self, nums: list[int]) -> list[int]:\n",
    "        \"\"\"\n",
    "        Given an integer array nums, move all the even integers at the beginning of the\n",
    "        array followed by all the odd integers.\n",
    "        \"\"\"\n",
    "        # First compute the number of even and odd numbers.\n",
    "        n_even = sum(\n",
    "            1 for num in nums if num % 2 == 0\n",
    "        )  # Even numbers are divisible by 2.\n",
    "        n_odd = len(nums) - n_even\n",
    "        # Now here is where I had a real WWJD (What Would Jaz Do) moment... The old Dave would\n",
    "        # have initialized empty lists and appended them, but the current Dave remembers that\n",
    "        # Jaz explained append has to dynamically resize the list, which can potentially take up\n",
    "        # a lot of memory. So to be more memory efficient I am going to initialize two lists of\n",
    "        # lengths that correspond to the number of even and odd numbers respectively.\n",
    "        even_list = [0] * n_even\n",
    "        odd_list = [0] * n_odd\n",
    "        # Initialize index counters for the even and odd number lists.\n",
    "        even_idx = 0\n",
    "        odd_idx = 0\n",
    "        # For every number.\n",
    "        for num in nums:\n",
    "            # If the current number is even.\n",
    "            if num % 2 == 0:\n",
    "                # Fill the even number list.\n",
    "                even_list[even_idx] = num\n",
    "                # Move the even number index forward.\n",
    "                even_idx += 1\n",
    "            # Else the current number is odd.\n",
    "            else:\n",
    "                # Fill the odd number list.\n",
    "                odd_list[odd_idx] = num\n",
    "                # Move the odd number index forward.\n",
    "                odd_idx += 1\n",
    "        return even_list + odd_list"
   ]
  },
  {
   "cell_type": "code",
   "execution_count": 18,
   "id": "53cec462",
   "metadata": {},
   "outputs": [
    {
     "name": "stdout",
     "output_type": "stream",
     "text": [
      "[2, 4, 3, 1]\n",
      "[0]\n"
     ]
    }
   ],
   "source": [
    "# Run sanity checks.\n",
    "nums_list = [\n",
    "    [\n",
    "        3,\n",
    "        1,\n",
    "        2,\n",
    "        4,\n",
    "    ],  # A: [2,4,3,1], [4,2,3,1], [2,4,1,3], and [4,2,1,3] would all be accepted.\n",
    "    [0],  # A: 0\n",
    "]\n",
    "for nums in nums_list:\n",
    "    solution = Solution()\n",
    "    print(solution.sortArrayByParity(nums))"
   ]
  },
  {
   "cell_type": "markdown",
   "id": "43ed5724",
   "metadata": {},
   "source": [
    "# 456. 132 Pattern (TIME LIMIT EXCEEDED)\n",
    "\n",
    "Notes:\n",
    "\n",
    "* Think of a 132 pattern as a graph with the ordered points (0, 1), (1, 3), and (2, 2)\n",
    "* Traverse the graph from points (0, 1) $\\rightarrow$ (1, 3) $\\rightarrow$ (2, 2), where a 132 pattern would have ordered points where:\n",
    "    * (0, 1) represents a valley—ie minimum y-value.\n",
    "    * (1, 3) represent a peak—ie maximum y-value.\n",
    "    * (2, 2) reprents sea level—ie valley's y-value < sea level's y-value < peak's y-value.\n",
    "* Thus 132 = (0, 1) $\\rightarrow$ (1, 3) $\\rightarrow$ (2, 2) = valley $\\rightarrow$ peak $\\rightarrow$ sea level"
   ]
  },
  {
   "cell_type": "code",
   "execution_count": 19,
   "id": "67d69a9e",
   "metadata": {},
   "outputs": [],
   "source": [
    "class Solution:\n",
    "    ### Approach: traverse left to right and is hella slow ###\n",
    "\n",
    "    def find132pattern(self, nums: list[int]) -> bool:\n",
    "        \"\"\"\n",
    "        Return true if there is a 132 pattern in nums, otherwise, return false.\n",
    "        \"\"\"\n",
    "\n",
    "        # Account for the edge case where there are less than three numbers in nums.\n",
    "        n = len(nums)\n",
    "        if n < 3:\n",
    "            return False\n",
    "        # Initialize the valleys list and the first valley.\n",
    "        valleys = [float(\"inf\")] * n\n",
    "        valley = nums[0]\n",
    "        # Iterate through nums to find potential valleys—ie a number that is smaller\n",
    "        # than its right neighbor.\n",
    "        for i in range(1, n):\n",
    "            # Update the valley list.\n",
    "            valleys[i] = valley\n",
    "            valley = min(valley, nums[i])\n",
    "        # Traverse through nums to identify potential peaks—ie a number that is larger\n",
    "        # than both its neighbors—noting that the first and last number in nums aren't\n",
    "        # eligible to be peaks.\n",
    "        for i in range(1, n - 1):\n",
    "            # If the current number is a peak.\n",
    "            if valleys[i] < nums[i]:\n",
    "                # Search to the right of the peak to find a valid sea level number.\n",
    "                for j in range(i + 1, n):\n",
    "                    # Return true if we find a valid sea level number.\n",
    "                    if valleys[i] < nums[j] < nums[i]:\n",
    "                        return True\n",
    "        return False"
   ]
  },
  {
   "cell_type": "code",
   "execution_count": 20,
   "id": "e6104fc3",
   "metadata": {},
   "outputs": [
    {
     "name": "stdout",
     "output_type": "stream",
     "text": [
      "False\n",
      "True\n",
      "True\n"
     ]
    }
   ],
   "source": [
    "# Run sanity checks.\n",
    "nums_list = [\n",
    "    [1, 2, 3, 4],  # A: False\n",
    "    [3, 1, 4, 2],  # A: True\n",
    "    [-1, 3, 2, 0],  # A: True\n",
    "]\n",
    "for nums in nums_list:\n",
    "    solution = Solution()\n",
    "    print(solution.find132pattern(nums))"
   ]
  },
  {
   "cell_type": "markdown",
   "id": "a5242e98",
   "metadata": {},
   "source": [
    "# 557. Reverse Words in a String III\n"
   ]
  },
  {
   "cell_type": "code",
   "execution_count": 21,
   "id": "8c21044b",
   "metadata": {},
   "outputs": [],
   "source": [
    "class Solution:\n",
    "    def reverseWords(self, s: str) -> str:\n",
    "        \"\"\"\n",
    "        Given a string s, reverse the order of characters in each word\n",
    "        within a sentence while still preserving whitespace and initial word order.\n",
    "        \"\"\"\n",
    "        return \" \".join(word[::-1] for word in s.split())"
   ]
  },
  {
   "cell_type": "code",
   "execution_count": 22,
   "id": "85259fe3",
   "metadata": {},
   "outputs": [
    {
     "name": "stdout",
     "output_type": "stream",
     "text": [
      "s'teL ekat edoCteeL tsetnoc\n",
      "doG gniD\n"
     ]
    }
   ],
   "source": [
    "# Run sanity checks.\n",
    "s_list = [\n",
    "    \"Let's take LeetCode contest\",  # A: \"s'teL ekat edoCteeL tsetnoc\"\n",
    "    \"God Ding\",  # A: \"doG gniD\"\n",
    "]\n",
    "for s in s_list:\n",
    "    solution = Solution()\n",
    "    print(solution.reverseWords(s))"
   ]
  },
  {
   "cell_type": "markdown",
   "id": "eca22029",
   "metadata": {},
   "source": [
    "# 229. Majority Element II\n",
    "\n",
    "Notes:\n",
    "\n",
    "* The __Pigeonhole Principle__ states that if $n$ items are put into $m$ containers, with $n > m$, then at least one container must contain more than one item.\n",
    "    * Pigeon: element that occurs more than $\\lfloor \\frac{n}{3} \\rfloor$ times.\n",
    "    * Pigeonhole: segments of the list."
   ]
  },
  {
   "cell_type": "code",
   "execution_count": 23,
   "id": "806f552c",
   "metadata": {},
   "outputs": [],
   "source": [
    "from collections import Counter\n",
    "\n",
    "\n",
    "class Solution:\n",
    "    def majorityElement(self, nums: list[int]) -> list[int]:\n",
    "        \"\"\"\n",
    "        Given an integer array of size n, return all elements\n",
    "        that appear more than ⌊ n/3 ⌋ times.\n",
    "        \"\"\"\n",
    "        # Determine the length of the list\n",
    "        n = len(nums)\n",
    "        # Divide the list into three pigeonholes.\n",
    "        pigeonhole_1 = nums[: n // 3]\n",
    "        pigeonhole_2 = nums[n // 3 : 2 * n // 3]\n",
    "        pigeonhole_3 = nums[2 * n // 3 :]\n",
    "        # Initialize a set of potential pigeons.\n",
    "        potential_pigeons = set()\n",
    "        # For each pigeonhole.\n",
    "        for pigeonhole in [pigeonhole_1, pigeonhole_2, pigeonhole_3]:\n",
    "            # hits the occurrences of each element in the pigeon hole.\n",
    "            counts = Counter(pigeonhole)\n",
    "            # The majority element will always be in the top two most common occurrences.\n",
    "            two_most_common = counts.most_common(2)\n",
    "            # Add the top two common elements to the potential pigeons set.\n",
    "            for pigeon, _ in two_most_common:\n",
    "                potential_pigeons.add(pigeon)\n",
    "        # Account for false positives and edge cases where a majority element\n",
    "        # are all in one pigeonhole.\n",
    "        ret = [num for num in potential_pigeons if nums.count(num) > n // 3]\n",
    "        return ret"
   ]
  },
  {
   "cell_type": "code",
   "execution_count": 24,
   "id": "0176196f",
   "metadata": {},
   "outputs": [
    {
     "name": "stdout",
     "output_type": "stream",
     "text": [
      "[3]\n",
      "[1]\n",
      "[1, 2]\n"
     ]
    }
   ],
   "source": [
    "# Run sanity checks.\n",
    "nums_list = [\n",
    "    [3, 2, 3],  # A: [3]\n",
    "    [1],  # A: [1]\n",
    "    [1, 2],  # A: [1, 2]\n",
    "]\n",
    "for nums in nums_list:\n",
    "    solution = Solution()\n",
    "    print(solution.majorityElement(nums))"
   ]
  },
  {
   "cell_type": "markdown",
   "id": "4bbc4b8c-5669-461e-affa-93696ad72389",
   "metadata": {},
   "source": [
    "# 34. Find First and Last Position of Element in Sorted Array"
   ]
  },
  {
   "cell_type": "code",
   "execution_count": 25,
   "id": "a310c23a-f732-401a-a6c9-c8d5acbb2704",
   "metadata": {},
   "outputs": [],
   "source": [
    "class Solution:\n",
    "    def searchRange(self, nums: list[int], target: int) -> list[int]:\n",
    "        \"\"\"\n",
    "        Given an array of integers nums sorted in non-decreasing order,\n",
    "        find the starting and ending position of a given target value.\n",
    "        \"\"\"\n",
    "        # Initialize the first and last indices.\n",
    "        first_idx = -1\n",
    "        last_idx = -1\n",
    "        # Initialize a counter for the number of times we \"hit\" the\n",
    "        # target number.\n",
    "        hits = 0\n",
    "        # For every number in nums.\n",
    "        for i, num in enumerate(nums):\n",
    "            # If we hit the target.\n",
    "            if num == target:\n",
    "                # Update the hit counter.\n",
    "                hits += 1\n",
    "                # If this is the first time we hit the target.\n",
    "                if hits == 1:\n",
    "                    # Initialize the first index.\n",
    "                    first_idx = i\n",
    "                # Update the last index\n",
    "                last_idx = i\n",
    "        return [first_idx, last_idx]"
   ]
  },
  {
   "cell_type": "code",
   "execution_count": 26,
   "id": "13fe4700-bd79-481a-97de-1158d503a74e",
   "metadata": {},
   "outputs": [
    {
     "name": "stdout",
     "output_type": "stream",
     "text": [
      "[3, 4]\n",
      "[-1, -1]\n",
      "[-1, -1]\n"
     ]
    }
   ],
   "source": [
    "# Run sanity checks.\n",
    "nums_target_list = [\n",
    "    ([5, 7, 7, 8, 8, 10], 8),  # A: [3, 4]\n",
    "    ([5, 7, 7, 8, 8, 10], 6),  # A: [-1, -1]\n",
    "    ([], 0),  # # A: [-1, -1]\n",
    "]\n",
    "for nums, target in nums_target_list:\n",
    "    solution = Solution()\n",
    "    print(solution.searchRange(nums, target))"
   ]
  },
  {
   "cell_type": "markdown",
   "id": "996711d0-11a1-4c51-827f-5b014edae267",
   "metadata": {},
   "source": [
    "# 2009. Minimum Number of Operations to Make Array Continuous (NOT SOLVED)\n",
    "\n",
    "Notes:\n",
    "\n",
    "* The __Sieve of Eratosthenes__ is an algorithm to determine the smallest prime factor for every number up to a given limit."
   ]
  },
  {
   "cell_type": "code",
   "execution_count": 27,
   "id": "ca047447-1721-46ad-b7e1-0a84dc9dda83",
   "metadata": {},
   "outputs": [],
   "source": [
    "class Solution:\n",
    "    def sieve_of_eratosthenes(self, limit):\n",
    "        \"\"\"\n",
    "        Return the smallest prime factor for every number from 0 to limit.\n",
    "        \"\"\"\n",
    "        # Initialize the sieve.\n",
    "        soe = list(range(limit + 1))\n",
    "        # For every index between 2 and sqrt(limit).\n",
    "        for i in range(2, int(limit**0.5) + 1):\n",
    "            # Check if this index is a prime number, since its smallest prime\n",
    "            # factor is itself.\n",
    "            if soe[i] == i:\n",
    "                # For every multiple of the index.\n",
    "                for j in range(i * i, limit + 1, i):\n",
    "                    # Check to see if this index has been updated before.\n",
    "                    if soe[j] == j:\n",
    "                        # Then i is the smallest prime factor of j.\n",
    "                        soe[j] = i\n",
    "        # Note: We exit the loop at sqrt(limit) because any factor beyond the\n",
    "        # sqrt(limit) would have a corresponding factor smaller than the sqrt(limit).\n",
    "        return soe\n",
    "\n",
    "    def minOperations(self, nums: list[int]) -> int:\n",
    "        \"\"\"\n",
    "        Return the minimum number of operations to make nums continuous.\n",
    "\n",
    "        One operation: replace any element in nums with any integer.\n",
    "        nums is considered continuous if both of the following\n",
    "        conditions are fulfilled:\n",
    "            1. All elements in nums are unique.\n",
    "            2. The difference between the maximum element and the minimum\n",
    "               element in nums equals nums.length - 1.\n",
    "        \"\"\"\n",
    "        # Initialize the Sieve of Eratosthenes.\n",
    "        soe = self.sieve_of_eratosthenes(max(nums))\n",
    "        # Sort nums based on smallest prime numbers.\n",
    "        smallest_prime_sorted = sorted(nums, key=lambda x: soe[x])\n",
    "        # Initialize an operations counter.\n",
    "        n_ops = 0\n",
    "        # For every smallest prime sorted number.\n",
    "        for i in range(1, len(smallest_prime_sorted)):\n",
    "            # In the smallest prime sorted list we would expect each number\n",
    "            # to be exactly one greater than its predecessor for the sequence\n",
    "            # to be continuous.\n",
    "            if smallest_prime_sorted[i] - smallest_prime_sorted[i - 1] != 1:\n",
    "                n_ops += 1\n",
    "        return n_ops"
   ]
  },
  {
   "cell_type": "code",
   "execution_count": 28,
   "id": "171d0064-50e4-422c-8ff6-6701b3f95154",
   "metadata": {},
   "outputs": [
    {
     "name": "stdout",
     "output_type": "stream",
     "text": [
      "2\n",
      "3\n",
      "3\n"
     ]
    }
   ],
   "source": [
    "# Run sanity checks.\n",
    "nums_list = [\n",
    "    [4, 2, 5, 3],  # A: 0\n",
    "    [1, 2, 3, 5, 6],  # A: 1\n",
    "    [1, 10, 100, 1000],  # A: 3\n",
    "]\n",
    "for nums in nums_list:\n",
    "    solution = Solution()\n",
    "    print(solution.minOperations(nums))"
   ]
  },
  {
   "cell_type": "markdown",
   "id": "c6f0e95d-0ac1-4d32-b776-b362d8fa1bf6",
   "metadata": {},
   "source": [
    "# 1269. Number of Ways to Stay in the Same Place After Some Steps (NOT SOLVED)\n",
    "\n",
    "Notes:\n",
    "* To finish in the center ($C = 0$) of the $path$ after $s$ steps, one must have walked $\\frac{s}{2}$ steps to the left ($L = -1$) and $\\frac{s}{2}$ steps to the right ($R = 1$).\n",
    "  * $path: L = -1 \\leftrightarrow C = 0 \\leftrightarrow R = 1$\n",
    "* Thus given $s$ steps and $r$ number of steps to the right ($R = 1$) the number of ways to arrange taking $r$ steps to the right and $l = s - r$ steps to the left is:\n",
    "  * $\\binom{s}{r} \\binom{l = s - r}{r}$\n",
    "* Properties of $nCk$:\n",
    "  * $\\binom{n}{k} = \\frac{n!}{k!(n - k)!} = \\Pi \\frac{(n - (k - 1))}{k}$\n",
    "  * $\\binom{n}{k} = \\binom{n}{n - k}$"
   ]
  },
  {
   "cell_type": "code",
   "execution_count": 29,
   "id": "60995f7d",
   "metadata": {},
   "outputs": [],
   "source": [
    "class Solution:\n",
    "    # Modulo to handle large numbers.\n",
    "    mod = 10**9 + 7\n",
    "\n",
    "    def nCk(self, n, k):\n",
    "        \"\"\"Compute n choose k combinations in mod 10^9 + 7.\n",
    "\n",
    "        Args:\n",
    "            n (int): Set of elements to choose from.\n",
    "            k (int): Draw k-combinations of elements from n.\n",
    "\n",
    "        Returns:\n",
    "            float: n choose k combinations in mod 10^9 + 7.\n",
    "        \"\"\"\n",
    "        # nCk(n, k) = nCk(n, n-k).\n",
    "        if k > n - k:\n",
    "            k = n - k\n",
    "        # Initialize the mod combinations.\n",
    "        mod_combos = 1\n",
    "        # For every k combination.\n",
    "        for i in range(k):\n",
    "            # Update the mod combinations.\n",
    "            mod_combos = mod_combos * (n - i) // (i + 1)\n",
    "        return mod_combos % self.mod\n",
    "\n",
    "    def numWays(self, steps: int, arrLen: int) -> int:\n",
    "        \"\"\"\n",
    "        You have a pointer at index 0 in an array of size arrLen. At each step,\n",
    "        you can move 1 position to the left, 1 position to the right in the array\n",
    "        or stay in the same place (The pointer should not be moved outside the\n",
    "        array at any time). Given two integers steps and arrLen, return the\n",
    "        number of ways such that your pointer still at index 0 after exactly\n",
    "        steps steps. Since the answer may be too large, return it modulo 10^9 + 7.\n",
    "        \"\"\"\n",
    "        # Initialize the number of possibilities.\n",
    "        possibilities = 0\n",
    "        # For every right step to steps//2 steps.\n",
    "        for r in range(0, min(steps // 2 + 1, arrLen)):\n",
    "            # Update the number of possibilities.\n",
    "            possibilities += self.nCk(steps, r) * self.nCk(steps - r, r)\n",
    "            # Convert to mod possibilities.\n",
    "            possibilities %= self.mod\n",
    "        return possibilities"
   ]
  },
  {
   "cell_type": "code",
   "execution_count": 30,
   "id": "7b359726",
   "metadata": {},
   "outputs": [
    {
     "name": "stdout",
     "output_type": "stream",
     "text": [
      "7\n",
      "3\n",
      "13\n"
     ]
    }
   ],
   "source": [
    "# Run sanity checks.\n",
    "rowIndex_list = [\n",
    "    (3, 2),  # A: 4\n",
    "    (2, 4),  # A: 2\n",
    "    (4, 2),  # A: 8\n",
    "]\n",
    "for rowIndex in rowIndex_list:\n",
    "    solution = Solution()\n",
    "    print(solution.numWays(*rowIndex))"
   ]
  },
  {
   "cell_type": "markdown",
   "id": "f6869322",
   "metadata": {},
   "source": [
    "# 119. Pascal's Triangle II\n",
    "\n",
    "Notes:\n",
    "\n",
    "$$\n",
    "\\begin{array}{ccccccccccc}\n",
    " & & & & & \\binom{0}{0} & & & & & \\\\\n",
    " & & & & \\binom{1}{0} & & \\binom{1}{1} & & & & \\\\\n",
    " & & & \\binom{2}{0} & & \\binom{2}{1} & & \\binom{2}{2} & & & \\\\\n",
    " & & \\binom{3}{0} & & \\binom{3}{1} & & \\binom{3}{2} & & \\binom{3}{3} & & \\\\\n",
    " & \\binom{4}{0} & & \\binom{4}{1} & & \\binom{4}{2} & & \\binom{4}{3} & & \\binom{4}{4} & \\\\\n",
    " \\binom{5}{0} & & \\binom{5}{1} & & \\binom{5}{2} & & \\binom{5}{3} & & \\binom{5}{4} & & \\binom{5}{5} \\\\\n",
    "\\end{array}\n",
    "$$\n",
    "\n",
    "* The entry in the $n^{th}$ row and $k^{th}$ column of Pascal's triangle is:\n",
    "  * $\\binom{n}{k} = \\frac{n!}{k!(n - k)!} = \\binom{n}{k-1} \\times \\frac{n + 1 - k}{k}$"
   ]
  },
  {
   "cell_type": "code",
   "execution_count": 31,
   "id": "cf86f2ac",
   "metadata": {},
   "outputs": [],
   "source": [
    "class Solution:\n",
    "    def getRow(self, rowIndex: int) -> list[int]:\n",
    "        \"\"\"\n",
    "        In Pascal's triangle, each number is the sum of the two numbers\n",
    "        directly above it.\n",
    "        \"\"\"\n",
    "        # Handle the edge case when rowIndex is 0, return [1].\n",
    "        if rowIndex == 0:\n",
    "            return [1]\n",
    "        # Handle the edge case when rowIndex is 1, return [1, 1].\n",
    "        if rowIndex == 1:\n",
    "            return [1, 1]\n",
    "        # The first two elements of Pascal's triangle is always 1 and the rowIndex.\n",
    "        pascals_row = [1, rowIndex]\n",
    "        # Due to the symmetry of Pascal's triangle only the first half of the row,\n",
    "        # up to the midpoint, needs to be computed, and the rest can be reflected.\n",
    "        mid_point = rowIndex // 2\n",
    "        # Initialize the first previous values.\n",
    "        prev_value = rowIndex\n",
    "        # Iterate from 2 to the midpoint.\n",
    "        for k in range(2, mid_point + 1):\n",
    "            # Compute the current value.\n",
    "            current_value = prev_value * (rowIndex + 1 - k) // k  # Ensure int division.\n",
    "            # Update the first half of Pascal's row.\n",
    "            pascals_row.append(current_value)\n",
    "            # Re-initialize the previous value.\n",
    "            prev_value = current_value\n",
    "        # Reflect the first half of Pascal's row to complete the row.\n",
    "        pascals_row.extend(\n",
    "            pascals_row[:-1][::-1] if rowIndex % 2 == 0 else pascals_row[::-1],\n",
    "        )\n",
    "        return pascals_row"
   ]
  },
  {
   "cell_type": "code",
   "execution_count": 32,
   "id": "60877e3f",
   "metadata": {},
   "outputs": [
    {
     "name": "stdout",
     "output_type": "stream",
     "text": [
      "[1, 3, 3, 1]\n",
      "[1]\n",
      "[1, 1]\n"
     ]
    }
   ],
   "source": [
    "# Run sanity checks.\n",
    "rowIndex_list = [\n",
    "    3,  # A: [1, 3, 3, 1]\n",
    "    0,  # A: [1]\n",
    "    1,  # A: [1, 1]\n",
    "]\n",
    "for rowIndex in rowIndex_list:\n",
    "    solution = Solution()\n",
    "    print(solution.getRow(rowIndex))"
   ]
  }
 ],
 "metadata": {
  "kernelspec": {
   "display_name": "pd-env",
   "language": "python",
   "name": "pd-env"
  },
  "language_info": {
   "codemirror_mode": {
    "name": "ipython",
    "version": 3
   },
   "file_extension": ".py",
   "mimetype": "text/x-python",
   "name": "python",
   "nbconvert_exporter": "python",
   "pygments_lexer": "ipython3",
   "version": "3.10.12"
  }
 },
 "nbformat": 4,
 "nbformat_minor": 5
}
