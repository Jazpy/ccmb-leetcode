{
 "cells": [
  {
   "cell_type": "markdown",
   "id": "17a028ee",
   "metadata": {},
   "source": [
    "# 1232. Check If It Is a Straight Line\n",
    "\n",
    "Notes:\n",
    "\n",
    "$\\frac{y_1 - y_0}{x_1 - x_0} == \\frac{y_2 - y_1}{x_2 - x_1}$ is equivelant to $(y_1 - y_0)(x_2 - x_1) == (y_2 - y_1)(x_1 - x_0)$"
   ]
  },
  {
   "cell_type": "code",
   "execution_count": 1,
   "id": "250bc86d",
   "metadata": {},
   "outputs": [],
   "source": [
    "def checkStraightLine(coordinates: list[list[int]]) -> bool:\n",
    "    '''\n",
    "    Return True if the coordinates make a straight line,\n",
    "    return False otherwise.\n",
    "    '''\n",
    "    # Extract the points.\n",
    "    x0, y0 = coordinates[0]\n",
    "    x1, y1 = coordinates[1]\n",
    "    # Compute the differences.\n",
    "    x_diff = (x1 - x0)\n",
    "    y_diff = (y1 - y0)\n",
    "    # Intialize the return.\n",
    "    ret = []\n",
    "    # For every pair of coordinates.\n",
    "    for i in range(len(coordinates)):\n",
    "        # Extract the points.\n",
    "        c_x, c_y = coordinates[i]\n",
    "        # Check if the slopes are equivelent.\n",
    "        ret.append((c_x - x0) * y_diff == (c_y - y0) * x_diff)\n",
    "    return all(ret)"
   ]
  },
  {
   "cell_type": "code",
   "execution_count": 2,
   "id": "fd350658",
   "metadata": {},
   "outputs": [
    {
     "name": "stdout",
     "output_type": "stream",
     "text": [
      "True\n",
      "False\n",
      "True\n"
     ]
    }
   ],
   "source": [
    "# Run sanity chekcs.\n",
    "coord_list = [\n",
    "    [[1,2],[2,3],[3,4],[4,5],[5,6],[6,7]], # A: True\n",
    "    [[1,1],[2,2],[3,4],[4,5],[5,6],[7,7]], # A: False\n",
    "    [[0,0],[0,1],[0,-1]], # A: True\n",
    "]\n",
    "for coords in coord_list:\n",
    "    print(checkStraightLine(coords))"
   ]
  },
  {
   "cell_type": "markdown",
   "id": "e4904221",
   "metadata": {},
   "source": [
    "# 1502. Can Make Arithmetic Progression From Sequence"
   ]
  },
  {
   "cell_type": "code",
   "execution_count": 3,
   "id": "5c2a601d",
   "metadata": {},
   "outputs": [],
   "source": [
    "def canMakeArithmeticProgression(arr: list[int]) -> bool:\n",
    "    '''\n",
    "    Return True if the input list can be arranged into a\n",
    "    arithmetic progression return False otherwise.\n",
    "    '''\n",
    "    # Sort the list.\n",
    "    arr.sort()\n",
    "    # Find the first difference.\n",
    "    diff = arr[1] - arr[0]\n",
    "    # For all other values in the sorted list.\n",
    "    for i in range(1, len(arr)-1):\n",
    "        # If this is not and arithmetic progression.\n",
    "        if arr[i+1] - arr[i] != diff:\n",
    "            # Return False.\n",
    "            return False\n",
    "    return True"
   ]
  },
  {
   "cell_type": "code",
   "execution_count": 4,
   "id": "3ddd9fc0",
   "metadata": {},
   "outputs": [
    {
     "name": "stdout",
     "output_type": "stream",
     "text": [
      "True\n",
      "False\n"
     ]
    }
   ],
   "source": [
    "# Run sanity chekcs.\n",
    "arr_list = [\n",
    "    [3,5,1], # A: True\n",
    "    [1,2,4], # A: False\n",
    "]\n",
    "for arr in arr_list:\n",
    "    print(canMakeArithmeticProgression(arr))"
   ]
  },
  {
   "cell_type": "markdown",
   "id": "29561ecc",
   "metadata": {},
   "source": [
    "# 287. Find the Duplicate Number\n",
    "\n",
    "Notes:\n",
    "\n",
    "The expected sum of an arithematic sequence is: $\\frac{n \\times \\left(n + 1 \\right))}{2}$"
   ]
  },
  {
   "cell_type": "code",
   "execution_count": 5,
   "id": "9063a880",
   "metadata": {},
   "outputs": [],
   "source": [
    "class Solution:\n",
    "    \n",
    "    def findDuplicate(self, nums: list[int]) -> int:\n",
    "        '''\n",
    "        Return the duplicated integer in the arithmatic\n",
    "        sequence [1, n] with n + 1 integers.\n",
    "        '''\n",
    "#        ### obs(sum) - e(sub) ###\n",
    "#\n",
    "#         # Compute n.\n",
    "#         n = len(nums) - 1\n",
    "#         # Compute the expected sum.\n",
    "#         exp_sum = (n * (n + 1)) // 2 # Floor divide to return int.\n",
    "#         # Compute the observed sum.\n",
    "#         obs_sum = sum(nums)\n",
    "#         return obs_sum  - exp_sum\n",
    "#\n",
    "        ### hash table ###\n",
    "        \n",
    "        # Intialize seen set.\n",
    "        seen = set()\n",
    "        # For every num.\n",
    "        for num in nums:\n",
    "            # If the num is in the seen set.\n",
    "            if num in seen:\n",
    "                # Found the duplicate!\n",
    "                dup = num\n",
    "                break\n",
    "            # Else, add the num to the seen set.\n",
    "            seen.add(num)\n",
    "        return dup"
   ]
  },
  {
   "cell_type": "code",
   "execution_count": 6,
   "id": "6369214a",
   "metadata": {},
   "outputs": [
    {
     "name": "stdout",
     "output_type": "stream",
     "text": [
      "2\n",
      "3\n",
      "2\n"
     ]
    }
   ],
   "source": [
    "# Run sanity chekcs.\n",
    "nums_list = [\n",
    "    [1,3,4,2,2], # A: 2\n",
    "    [3,1,3,4,2], # A: 3\n",
    "    [2,2,2,2,2], # A: 2\n",
    "]\n",
    "for nums in nums_list:\n",
    "    solution = Solution()\n",
    "    print(solution.findDuplicate(nums))"
   ]
  },
  {
   "cell_type": "markdown",
   "id": "caea708f",
   "metadata": {},
   "source": [
    "# 1048. Longest String Chain"
   ]
  },
  {
   "cell_type": "code",
   "execution_count": 7,
   "id": "39b47aac",
   "metadata": {},
   "outputs": [],
   "source": [
    "class Solution:\n",
    "    \n",
    "    def longestStrChain(self, words: list[str]) -> int:\n",
    "        '''\n",
    "        Return the length of the longest word chain in words.\n",
    "        '''\n",
    "        # Sort the words by their length, such that we always\n",
    "        # check shorter words before longer words. \n",
    "        words.sort(key=len)\n",
    "        # Intialize a worc chain dicc, where the key are\n",
    "        # the word in words and the value is the maximum\n",
    "        # word chain length for all possible word chain\n",
    "        # possibilities.\n",
    "        word_chain_dicc = {}\n",
    "        # For every word.\n",
    "        for word in words:\n",
    "            # Intialzie the word chain entry.\n",
    "            word_chain_dicc[word] = 1\n",
    "            # Generate all possible potential predecessors. \n",
    "            for i in range(len(word)):\n",
    "                pot_pred = word[:i] + word[i+1:]\n",
    "                # If the potential predecessor is a valid predecessor,\n",
    "                # ie, the predecessor is already in the word chain.\n",
    "                if pot_pred in word_chain_dicc:\n",
    "                    # Update the maximum word chain length.\n",
    "                    word_chain_dicc[word] = max(word_chain_dicc[word], word_chain_dicc[pot_pred] + 1)\n",
    "        return max(word_chain_dicc.values())"
   ]
  },
  {
   "cell_type": "code",
   "execution_count": 8,
   "id": "ae16a992",
   "metadata": {},
   "outputs": [
    {
     "name": "stdout",
     "output_type": "stream",
     "text": [
      "4\n",
      "5\n",
      "1\n",
      "4\n"
     ]
    }
   ],
   "source": [
    "# Run sanity chekcs.\n",
    "words_list = [\n",
    "    ['a','b','ba','bca','bda','bdca'], # A: 4\n",
    "    ['xbc','pcxbcf','xb','cxbc','pcxbc'], # A: 5\n",
    "    ['abcd','dbqca'], # A: 1\n",
    "    ['a','ab','ac','bd','abc','abd','abdd'], # A: 4\n",
    "]\n",
    "for words in words_list:\n",
    "    solultion = Solution()\n",
    "    print(solultion.longestStrChain(words))"
   ]
  },
  {
   "cell_type": "markdown",
   "id": "950dd34d",
   "metadata": {},
   "source": [
    "# 799. Champagne Tower"
   ]
  },
  {
   "cell_type": "code",
   "execution_count": 9,
   "id": "1984ad16",
   "metadata": {},
   "outputs": [],
   "source": [
    "class Solution:\n",
    "    \n",
    "    def champagneTower(self, poured: int, query_row: int, query_glass: int) -> float:\n",
    "        '''\n",
    "        Return the amount of champagne poured in the (query_row, query_glass)\n",
    "        glass in the champagne tower.\n",
    "        '''\n",
    "        # Intialize the tower, note it is slightly larger than\n",
    "        # exactly 100 glasses to account for large amounts of\n",
    "        # poured champagne.\n",
    "        tower = [[0.0] * k for k in range(1, 102)]\n",
    "        # Intialize the champagne in the top glass of the tower.\n",
    "        tower[0][0] = float(poured)\n",
    "        # For each row until the query row.\n",
    "        for row in range(query_row + 1):\n",
    "            # For every glass in the current row.\n",
    "            for glass in range(row + 1):\n",
    "                # Once a glass is filled exactly half the excess\n",
    "                # falls to the left and right.\n",
    "                excess = (tower[row][glass] - 1) / 2\n",
    "                # If there is any excess.\n",
    "                if excess > 0:\n",
    "                    # Pour the excess in the left and right glasses\n",
    "                    # on the next row.\n",
    "                    tower[row+1][glass] += excess\n",
    "                    tower[row+1][glass+1] += excess\n",
    "        return min(1, tower[query_row][query_glass])"
   ]
  },
  {
   "cell_type": "code",
   "execution_count": 10,
   "id": "aa89895f",
   "metadata": {},
   "outputs": [
    {
     "name": "stdout",
     "output_type": "stream",
     "text": [
      "0.0\n",
      "0.5\n",
      "1\n",
      "0.0\n"
     ]
    }
   ],
   "source": [
    "# Run sanity chekcs.\n",
    "query_list = [\n",
    "    [1, 1, 1], # A: 0\n",
    "    [2, 1, 1], # A: 0.5\n",
    "    [100000009, 33, 17], # A: 1\n",
    "    [1000000000, 99, 99], # A \n",
    "]\n",
    "for query in query_list:\n",
    "    solultion = Solution()\n",
    "    print(solultion.champagneTower(query[0], query[1], query[2]))"
   ]
  },
  {
   "cell_type": "code",
   "execution_count": null,
   "id": "7f61bfad",
   "metadata": {},
   "outputs": [],
   "source": []
  }
 ],
 "metadata": {
  "kernelspec": {
   "display_name": "Python 3 (ipykernel)",
   "language": "python",
   "name": "python3"
  },
  "language_info": {
   "codemirror_mode": {
    "name": "ipython",
    "version": 3
   },
   "file_extension": ".py",
   "mimetype": "text/x-python",
   "name": "python",
   "nbconvert_exporter": "python",
   "pygments_lexer": "ipython3",
   "version": "3.9.15"
  }
 },
 "nbformat": 4,
 "nbformat_minor": 5
}
