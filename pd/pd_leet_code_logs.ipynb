{
 "cells": [
  {
   "cell_type": "markdown",
   "id": "17a028ee",
   "metadata": {},
   "source": [
    "# 1232. Check If It Is a Straight Line\n",
    "\n",
    "Notes:\n",
    "\n",
    "$\\frac{y_1 - y_0}{x_1 - x_0} == \\frac{y_2 - y_1}{x_2 - x_1}$ is equivelant to $(y_1 - y_0)(x_2 - x_1) == (y_2 - y_1)(x_1 - x_0)$"
   ]
  },
  {
   "cell_type": "code",
   "execution_count": 1,
   "id": "250bc86d",
   "metadata": {},
   "outputs": [],
   "source": [
    "def checkStraightLine(coordinates: list[list[int]]) -> bool:\n",
    "    \"\"\"\n",
    "    Return True if the coordinates make a straight line,\n",
    "    return False otherwise.\n",
    "    \"\"\"\n",
    "    # Extract the points.\n",
    "    x0, y0 = coordinates[0]\n",
    "    x1, y1 = coordinates[1]\n",
    "    # Compute the differences.\n",
    "    x_diff = x1 - x0\n",
    "    y_diff = y1 - y0\n",
    "    # Intialize the return.\n",
    "    ret = []\n",
    "    # For every pair of coordinates.\n",
    "    for i in range(len(coordinates)):\n",
    "        # Extract the points.\n",
    "        c_x, c_y = coordinates[i]\n",
    "        # Check if the slopes are equivelent.\n",
    "        ret.append((c_x - x0) * y_diff == (c_y - y0) * x_diff)\n",
    "    return all(ret)"
   ]
  },
  {
   "cell_type": "code",
   "execution_count": 2,
   "id": "fd350658",
   "metadata": {},
   "outputs": [
    {
     "name": "stdout",
     "output_type": "stream",
     "text": [
      "True\n",
      "False\n",
      "True\n"
     ]
    }
   ],
   "source": [
    "# Run sanity chekcs.\n",
    "coord_list = [\n",
    "    [[1, 2], [2, 3], [3, 4], [4, 5], [5, 6], [6, 7]],  # A: True\n",
    "    [[1, 1], [2, 2], [3, 4], [4, 5], [5, 6], [7, 7]],  # A: False\n",
    "    [[0, 0], [0, 1], [0, -1]],  # A: True\n",
    "]\n",
    "for coords in coord_list:\n",
    "    print(checkStraightLine(coords))"
   ]
  },
  {
   "cell_type": "markdown",
   "id": "e4904221",
   "metadata": {},
   "source": [
    "# 1502. Can Make Arithmetic Progression From Sequence"
   ]
  },
  {
   "cell_type": "code",
   "execution_count": 3,
   "id": "5c2a601d",
   "metadata": {},
   "outputs": [],
   "source": [
    "def canMakeArithmeticProgression(arr: list[int]) -> bool:\n",
    "    \"\"\"\n",
    "    Return True if the input list can be arranged into a\n",
    "    arithmetic progression return False otherwise.\n",
    "    \"\"\"\n",
    "    # Sort the list.\n",
    "    arr.sort()\n",
    "    # Find the first difference.\n",
    "    diff = arr[1] - arr[0]\n",
    "    # For all other values in the sorted list.\n",
    "    for i in range(1, len(arr) - 1):\n",
    "        # If this is not and arithmetic progression.\n",
    "        if arr[i + 1] - arr[i] != diff:\n",
    "            # Return False.\n",
    "            return False\n",
    "    return True"
   ]
  },
  {
   "cell_type": "code",
   "execution_count": 4,
   "id": "3ddd9fc0",
   "metadata": {},
   "outputs": [
    {
     "name": "stdout",
     "output_type": "stream",
     "text": [
      "True\n",
      "False\n"
     ]
    }
   ],
   "source": [
    "# Run sanity chekcs.\n",
    "arr_list = [\n",
    "    [3, 5, 1],  # A: True\n",
    "    [1, 2, 4],  # A: False\n",
    "]\n",
    "for arr in arr_list:\n",
    "    print(canMakeArithmeticProgression(arr))"
   ]
  },
  {
   "cell_type": "markdown",
   "id": "29561ecc",
   "metadata": {},
   "source": [
    "# 287. Find the Duplicate Number\n",
    "\n",
    "Notes:\n",
    "\n",
    "The expected sum of an arithematic sequence is: $\\frac{n \\times \\left(n + 1 \\right))}{2}$"
   ]
  },
  {
   "cell_type": "code",
   "execution_count": 5,
   "id": "9063a880",
   "metadata": {},
   "outputs": [],
   "source": [
    "class Solution:\n",
    "    ### Approach: obs(sum) - e(sub) ###\n",
    "\n",
    "    #     def findDuplicate(self, nums: list[int]) -> int:\n",
    "    #         '''\n",
    "    #         Return the duplicated integer in the arithmatic\n",
    "    #         sequence [1, n] with n + 1 integers.\n",
    "    #         '''\n",
    "    #         # Compute n.\n",
    "    #         n = len(nums) - 1\n",
    "    #         # Compute the expected sum.\n",
    "    #         exp_sum = (n * (n + 1)) // 2 # Floor divide to return int.\n",
    "    #         # Compute the observed sum.\n",
    "    #         obs_sum = sum(nums)\n",
    "    #         return obs_sum  - exp_sum\n",
    "\n",
    "    ### Approach: hash table ###\n",
    "\n",
    "    def findDuplicate(self, nums: list[int]) -> int:\n",
    "        \"\"\"\n",
    "        Return the duplicated integer in the arithmatic\n",
    "        sequence [1, n] with n + 1 integers.\n",
    "        \"\"\"\n",
    "        # Intialize seen set.\n",
    "        seen = set()\n",
    "        # For every num.\n",
    "        for num in nums:\n",
    "            # If the num is in the seen set.\n",
    "            if num in seen:\n",
    "                # Found the duplicate!\n",
    "                dup = num\n",
    "                break\n",
    "            # Else, add the num to the seen set.\n",
    "            seen.add(num)\n",
    "        return dup"
   ]
  },
  {
   "cell_type": "code",
   "execution_count": 6,
   "id": "6369214a",
   "metadata": {},
   "outputs": [
    {
     "name": "stdout",
     "output_type": "stream",
     "text": [
      "2\n",
      "3\n",
      "2\n"
     ]
    }
   ],
   "source": [
    "# Run sanity chekcs.\n",
    "nums_list = [\n",
    "    [1, 3, 4, 2, 2],  # A: 2\n",
    "    [3, 1, 3, 4, 2],  # A: 3\n",
    "    [2, 2, 2, 2, 2],  # A: 2\n",
    "]\n",
    "for nums in nums_list:\n",
    "    solution = Solution()\n",
    "    print(solution.findDuplicate(nums))"
   ]
  },
  {
   "cell_type": "markdown",
   "id": "caea708f",
   "metadata": {},
   "source": [
    "# 1048. Longest String Chain"
   ]
  },
  {
   "cell_type": "code",
   "execution_count": 7,
   "id": "39b47aac",
   "metadata": {},
   "outputs": [],
   "source": [
    "class Solution:\n",
    "    def longestStrChain(self, words: list[str]) -> int:\n",
    "        \"\"\"\n",
    "        Return the length of the longest word chain in words.\n",
    "        \"\"\"\n",
    "        # Sort the words by their length, such that we always\n",
    "        # check shorter words before longer words.\n",
    "        words.sort(key=len)\n",
    "        # Intialize a worc chain dicc, where the key are\n",
    "        # the word in words and the value is the maximum\n",
    "        # word chain length for all possible word chain\n",
    "        # possibilities.\n",
    "        word_chain_dicc = {}\n",
    "        # For every word.\n",
    "        for word in words:\n",
    "            # Intialzie the word chain entry.\n",
    "            word_chain_dicc[word] = 1\n",
    "            # Generate all possible potential predecessors.\n",
    "            for i in range(len(word)):\n",
    "                pot_pred = word[:i] + word[i + 1 :]\n",
    "                # If the potential predecessor is a valid predecessor,\n",
    "                # ie, the predecessor is already in the word chain.\n",
    "                if pot_pred in word_chain_dicc:\n",
    "                    # Update the maximum word chain length.\n",
    "                    word_chain_dicc[word] = max(\n",
    "                        word_chain_dicc[word], word_chain_dicc[pot_pred] + 1\n",
    "                    )\n",
    "        return max(word_chain_dicc.values())"
   ]
  },
  {
   "cell_type": "code",
   "execution_count": 8,
   "id": "ae16a992",
   "metadata": {},
   "outputs": [
    {
     "name": "stdout",
     "output_type": "stream",
     "text": [
      "4\n",
      "5\n",
      "1\n",
      "4\n"
     ]
    }
   ],
   "source": [
    "# Run sanity chekcs.\n",
    "words_list = [\n",
    "    [\"a\", \"b\", \"ba\", \"bca\", \"bda\", \"bdca\"],  # A: 4\n",
    "    [\"xbc\", \"pcxbcf\", \"xb\", \"cxbc\", \"pcxbc\"],  # A: 5\n",
    "    [\"abcd\", \"dbqca\"],  # A: 1\n",
    "    [\"a\", \"ab\", \"ac\", \"bd\", \"abc\", \"abd\", \"abdd\"],  # A: 4\n",
    "]\n",
    "for words in words_list:\n",
    "    solultion = Solution()\n",
    "    print(solultion.longestStrChain(words))"
   ]
  },
  {
   "cell_type": "markdown",
   "id": "950dd34d",
   "metadata": {},
   "source": [
    "# 799. Champagne Tower"
   ]
  },
  {
   "cell_type": "code",
   "execution_count": 9,
   "id": "1984ad16",
   "metadata": {},
   "outputs": [],
   "source": [
    "class Solution:\n",
    "    def champagneTower(self, poured: int, query_row: int, query_glass: int) -> float:\n",
    "        \"\"\"\n",
    "        Return the amount of champagne poured in the (query_row, query_glass)\n",
    "        glass in the champagne tower.\n",
    "        \"\"\"\n",
    "        # Intialize the tower, note it is slightly larger than\n",
    "        # exactly 100 glasses to account for large amounts of\n",
    "        # poured champagne.\n",
    "        tower = [[0.0] * k for k in range(1, 102)]\n",
    "        # Intialize the champagne in the top glass of the tower.\n",
    "        tower[0][0] = float(poured)\n",
    "        # For each row until the query row.\n",
    "        for row in range(query_row + 1):\n",
    "            # For every glass in the current row.\n",
    "            for glass in range(row + 1):\n",
    "                # Once a glass is filled exactly half the excess\n",
    "                # falls to the left and right.\n",
    "                excess = (tower[row][glass] - 1) / 2\n",
    "                # If there is any excess.\n",
    "                if excess > 0:\n",
    "                    # Pour the excess in the left and right glasses\n",
    "                    # on the next row.\n",
    "                    tower[row + 1][glass] += excess\n",
    "                    tower[row + 1][glass + 1] += excess\n",
    "        return min(1, tower[query_row][query_glass])"
   ]
  },
  {
   "cell_type": "code",
   "execution_count": 10,
   "id": "aa89895f",
   "metadata": {},
   "outputs": [
    {
     "name": "stdout",
     "output_type": "stream",
     "text": [
      "0.0\n",
      "0.5\n",
      "1\n",
      "0.0\n"
     ]
    }
   ],
   "source": [
    "# Run sanity chekcs.\n",
    "query_list = [\n",
    "    [1, 1, 1],  # A: 0\n",
    "    [2, 1, 1],  # A: 0.5\n",
    "    [100000009, 33, 17],  # A: 1\n",
    "    [1000000000, 99, 99],  # A\n",
    "]\n",
    "for query in query_list:\n",
    "    solultion = Solution()\n",
    "    print(solultion.champagneTower(query[0], query[1], query[2]))"
   ]
  },
  {
   "cell_type": "markdown",
   "id": "32695415",
   "metadata": {},
   "source": [
    "# 389. Find the Difference\n",
    "\n",
    "Notes:\n",
    " \n",
    " * The __Fundamental Theorem of Arithmetic__ says that every integer greater than 1 can be factored  uniquely into a product of primes.\n",
    " * __Euclid’s lemma__ says that if a prime divides a product of two numbers, it must divide at least one of the numbers."
   ]
  },
  {
   "cell_type": "code",
   "execution_count": 11,
   "id": "f56c3cbf",
   "metadata": {},
   "outputs": [],
   "source": [
    "class Solution:\n",
    "    def findTheDifference(self, s: str, t: str) -> str:\n",
    "        \"\"\"\n",
    "        Return the letter that is in set t but not set s, assuming that\n",
    "        s is a subset of t, and sets t and s only differ by one letter.\n",
    "        \"\"\"\n",
    "        # Intialize a map of all possible one letter differences\n",
    "        # (including the one letter case), to unique prime numbers.\n",
    "        letter2prime = {\n",
    "            \"a\": 2,\n",
    "            \"b\": 3,\n",
    "            \"c\": 5,\n",
    "            \"d\": 7,\n",
    "            \"e\": 11,\n",
    "            \"f\": 13,\n",
    "            \"g\": 17,\n",
    "            \"h\": 19,\n",
    "            \"i\": 23,\n",
    "            \"j\": 29,\n",
    "            \"k\": 31,\n",
    "            \"l\": 37,\n",
    "            \"m\": 41,\n",
    "            \"n\": 43,\n",
    "            \"o\": 47,\n",
    "            \"p\": 53,\n",
    "            \"q\": 59,\n",
    "            \"r\": 61,\n",
    "            \"s\": 67,\n",
    "            \"t\": 71,\n",
    "            \"u\": 73,\n",
    "            \"v\": 79,\n",
    "            \"w\": 83,\n",
    "            \"x\": 89,\n",
    "            \"y\": 97,\n",
    "            \"z\": 101,\n",
    "            \"\": 103,\n",
    "        }\n",
    "        # Intialize a map of all possible unique prime numbers to\n",
    "        # one letter differences (including the one letter case).\n",
    "        prime2letter = {\n",
    "            2: \"a\",\n",
    "            3: \"b\",\n",
    "            5: \"c\",\n",
    "            7: \"d\",\n",
    "            11: \"e\",\n",
    "            13: \"f\",\n",
    "            17: \"g\",\n",
    "            19: \"h\",\n",
    "            23: \"i\",\n",
    "            29: \"j\",\n",
    "            31: \"k\",\n",
    "            37: \"l\",\n",
    "            41: \"m\",\n",
    "            43: \"n\",\n",
    "            47: \"o\",\n",
    "            53: \"p\",\n",
    "            59: \"q\",\n",
    "            61: \"r\",\n",
    "            67: \"s\",\n",
    "            71: \"t\",\n",
    "            73: \"u\",\n",
    "            79: \"v\",\n",
    "            83: \"w\",\n",
    "            89: \"x\",\n",
    "            97: \"y\",\n",
    "            101: \"z\",\n",
    "            103: \"\",\n",
    "        }\n",
    "        # Given that s is a subset of t, the product of unique prime\n",
    "        # numbers in t is: Pi(t) = Pi(s) * t [eq1].\n",
    "        Pi_s = 1\n",
    "        for letter in s:\n",
    "            Pi_s *= letter2prime[letter]\n",
    "        Pi_t = 1\n",
    "        for letter in t:\n",
    "            Pi_t *= letter2prime[letter]\n",
    "        # Given that set t has one only more letter than set s,\n",
    "        # t = Pi(t) / Pi(s) = Pi(s) * t / Pi(s) [eq2].\n",
    "        quotient = int(Pi_t / Pi_s)\n",
    "        return prime2letter[quotient]"
   ]
  },
  {
   "cell_type": "code",
   "execution_count": 12,
   "id": "a1b5ebb6",
   "metadata": {},
   "outputs": [
    {
     "name": "stdout",
     "output_type": "stream",
     "text": [
      "e\n",
      "y\n"
     ]
    }
   ],
   "source": [
    "# Run sanity chekcs.\n",
    "st_list = [\n",
    "    [\"abcd\", \"abcde\"],  # A: e\n",
    "    [\"\", \"y\"],  # A: y\n",
    "]\n",
    "for st in st_list:\n",
    "    solultion = Solution()\n",
    "    print(solultion.findTheDifference(st[0], st[1]))"
   ]
  },
  {
   "cell_type": "markdown",
   "id": "ba0cec8f",
   "metadata": {},
   "source": [
    "# 316. Remove Duplicate Letters (NOT SOLVED)\n",
    "\n",
    "Notes:\n",
    " \n",
    " * Dave's first recursion :)\n",
    " * The __Fundamental Theorem of Arithmetic__ says that every integer greater than 1 can be factored  uniquely into a product of primes.\n",
    " * __Euclid’s lemma__ says that if a prime divides a product of two numbers, it must divide at least one of the numbers."
   ]
  },
  {
   "cell_type": "code",
   "execution_count": 13,
   "id": "e02d83eb",
   "metadata": {},
   "outputs": [],
   "source": [
    "class Solution:\n",
    "    ### Approach: recursion ###\n",
    "\n",
    "    def removeDuplicateLetters(self, s: str) -> str:\n",
    "        \"\"\"\n",
    "        Remove duplicate letters and return a string with only unique\n",
    "        letters sorted in the smallest possible lexicographical order.\n",
    "        \"\"\"\n",
    "        # Acount for the empty string case.\n",
    "        if not s:\n",
    "            return \"\"\n",
    "        # Intialize the unique letters in the string.\n",
    "        unique_letters = set(s)\n",
    "        # Intialize the possible solutions.\n",
    "        sols = []\n",
    "        # For every lexicographically sorted unique letter.\n",
    "        for letter in sorted(unique_letters):\n",
    "            # Find the first occurance of that letter.\n",
    "            idx = s.index(letter)\n",
    "            # Intialize the sub string to the right of the first s, while\n",
    "            # removing any duplicate letters.\n",
    "            n_s = s[idx + 1 :].replace(letter, \"\")\n",
    "            # Recursivly (and magically) find all possible solutions.\n",
    "            sol = letter + self.removeDuplicateLetters(n_s)\n",
    "            sols.append(sol)\n",
    "        # Return the smallest solution.\n",
    "        return min(sols)\n",
    "\n",
    "    ### Approach: prime factorization ###\n",
    "\n",
    "    def removeDuplicateLetters(self, s: str) -> str:\n",
    "        \"\"\"\n",
    "        Remove duplicate letters and return a string with only unique\n",
    "        letters sorted in the smallest possible lexicographical order.\n",
    "        \"\"\"\n",
    "        # Intialize a map of all possible one letter differences\n",
    "        # (including the one letter case), to unique prime numbers.\n",
    "        letter2prime = {\n",
    "            \"a\": 2,\n",
    "            \"b\": 3,\n",
    "            \"c\": 5,\n",
    "            \"d\": 7,\n",
    "            \"e\": 11,\n",
    "            \"f\": 13,\n",
    "            \"g\": 17,\n",
    "            \"h\": 19,\n",
    "            \"i\": 23,\n",
    "            \"j\": 29,\n",
    "            \"k\": 31,\n",
    "            \"l\": 37,\n",
    "            \"m\": 41,\n",
    "            \"n\": 43,\n",
    "            \"o\": 47,\n",
    "            \"p\": 53,\n",
    "            \"q\": 59,\n",
    "            \"r\": 61,\n",
    "            \"s\": 67,\n",
    "            \"t\": 71,\n",
    "            \"u\": 73,\n",
    "            \"v\": 79,\n",
    "            \"w\": 83,\n",
    "            \"x\": 89,\n",
    "            \"y\": 97,\n",
    "            \"z\": 101,\n",
    "            \"\": 103,\n",
    "        }\n",
    "        # Compute Pi(s).\n",
    "        Pi = 1\n",
    "        for letter in s:\n",
    "            Pi *= letter2prime[letter]\n",
    "        # Decompose the product into prime factors to get factors\n",
    "        factors = {}\n",
    "        # For every letter:prime sorted by the smallest prime number.\n",
    "        for letter, prime in letter2prime.items():\n",
    "            # Perform prime factorization or put another ways,\n",
    "            # determine the number of times each letter appears in s.\n",
    "            while Pi % prime == 0:\n",
    "                # If this is the first time we have seen this letter.\n",
    "                if letter not in factors:\n",
    "                    # Intialize the letter.\n",
    "                    factors[letter] = 1\n",
    "                # Else, this is a duplicate letter.\n",
    "                else:\n",
    "                    # Update the duplicate.\n",
    "                    factors[letter] += 1\n",
    "                # Reduce by a factor of prime\n",
    "                Pi //= prime\n",
    "        # Intialize the return.\n",
    "        ret = []\n",
    "        # For every letter sorted in lexicographical order.\n",
    "        for letter in sorted(factors.keys()):\n",
    "            if letter in s:\n",
    "                # Update the return\n",
    "                ret.append(letter)\n",
    "        return \"\".join(ret)"
   ]
  },
  {
   "cell_type": "code",
   "execution_count": 14,
   "id": "61c9f728",
   "metadata": {},
   "outputs": [
    {
     "name": "stdout",
     "output_type": "stream",
     "text": [
      "abc\n",
      "abcd\n"
     ]
    }
   ],
   "source": [
    "# Run sanity cehcks.\n",
    "s_list = [\n",
    "    \"bcabc\",  # A: 'abc'\n",
    "    \"cbacdcbc\",  # A: 'acdb'\n",
    "]\n",
    "for s in s_list:\n",
    "    solution = Solution()\n",
    "    print(solution.removeDuplicateLetters(s))"
   ]
  },
  {
   "cell_type": "markdown",
   "id": "ec0ae8f2",
   "metadata": {},
   "source": [
    "# 880. Decoded String at Index\n",
    "\n",
    "Notes:\n",
    "\n",
    "* writting == BAD; erasing == GOOD"
   ]
  },
  {
   "cell_type": "code",
   "execution_count": 15,
   "id": "ad591639",
   "metadata": {},
   "outputs": [],
   "source": [
    "class Solution:\n",
    "    ### Approach: brute fucking force (Memory Limit Exceeded) ###\n",
    "\n",
    "    def decodeAtIndex(self, s: str, k: int) -> str:\n",
    "        \"\"\"\n",
    "        Given an integer k, return the kth character (1-indexed) in the decoded string.\n",
    "        \"\"\"\n",
    "        # Intialize the tape for the decoded characters.\n",
    "        tape = []\n",
    "        # For every character in the encoded string.\n",
    "        for character in s:\n",
    "            # If the character is a letter.\n",
    "            if character.isalpha():\n",
    "                # Write the letter onto the tape.\n",
    "                tape.append(character)\n",
    "                # If the length of the letters on the tape is greater than or equal to k.\n",
    "                if len(tape) >= k:\n",
    "                    # Stop decoding the string.\n",
    "                    break\n",
    "            # Else the character is a digit.\n",
    "            else:\n",
    "                # Convert the type of the digit: str -> int.\n",
    "                d = int(character)\n",
    "                # Write the decoded letters repeatedly d - 1 more times in total\n",
    "                # ie repeat the decoded string d times.\n",
    "                tape = tape * d\n",
    "                # If the length of the letters on the tape is greater than or equal to k.\n",
    "                if len(tape) >= k:\n",
    "                    # Stop decoding the string.\n",
    "                    break\n",
    "        # Account for the k being 1-indexed.\n",
    "        return tape[k - 1]\n",
    "\n",
    "    ### Approach: sparkling brute force (Beats 100.00% of users with Python3) ###\n",
    "\n",
    "    def decodeAtIndex(self, s: str, k: int) -> str:\n",
    "        \"\"\"\n",
    "        Given an integer k, return the kth character (1-indexed) in the decoded string.\n",
    "        \"\"\"\n",
    "        # Instead of writting the decoded string on the tape, find the total length of\n",
    "        # the tape.\n",
    "        tape_len = 0\n",
    "        # For every character in the encoded string.\n",
    "        for character in s:\n",
    "            # If the the character is a digit.\n",
    "            if character.isdigit():\n",
    "                # Convert the type of the digit: str -> int.\n",
    "                d = int(character)\n",
    "                # The hypothetical decoded string would increase in length by a factor\n",
    "                # of d, ie we repeat the decoded string d times.\n",
    "                tape_len *= d\n",
    "            # Else the character is a letter.\n",
    "            else:\n",
    "                # The hypothetical decoded string would increase in length by one,\n",
    "                # ie we write down one more letter on the tape.\n",
    "                tape_len += 1\n",
    "        # Now because writting the decoded string on the tape was NOT memory efficient,\n",
    "        # lets effectively erase the letters of the decoded string until we reach kth\n",
    "        # character, by reducing the length of the tape to length k.\n",
    "        for character in reversed(s):\n",
    "            # Take the modulo of the tape length to make sure k is within the sub-string.\n",
    "            k %= tape_len\n",
    "            # If the tape length is zero and the character is a letter.\n",
    "            if k == 0 and character.isalpha():\n",
    "                # Return the kth character.\n",
    "                return character\n",
    "            # If the the character is a digit\n",
    "            if character.isdigit():\n",
    "                # Convert the type of the digit: str -> int.\n",
    "                d = int(character)\n",
    "                # The hypothetical decoded string would reduce in length by a factor\n",
    "                # of d, ie we erase the repeated decoded sub-string d times.\n",
    "                tape_len //= int(d)\n",
    "            # Else the character is a letter.\n",
    "            else:\n",
    "                # The hypothetical decoded string would decrease in length by one,\n",
    "                # ie we erase one more letter from the tape.\n",
    "                tape_len -= 1"
   ]
  },
  {
   "cell_type": "code",
   "execution_count": 16,
   "id": "12d4641a",
   "metadata": {},
   "outputs": [
    {
     "name": "stdout",
     "output_type": "stream",
     "text": [
      "o\n",
      "h\n",
      "a\n"
     ]
    }
   ],
   "source": [
    "# Run sanity checks.\n",
    "sk_list = [\n",
    "    [\"leet2code3\", 10],  # A: o\n",
    "    [\"ha22\", 5],  # A: h\n",
    "    [\"a2345678999999999999999\", 1],  # A: a\n",
    "]\n",
    "for sk in sk_list:\n",
    "    solution = Solution()\n",
    "    print(solution.decodeAtIndex(sk[0], sk[1]))"
   ]
  },
  {
   "cell_type": "markdown",
   "id": "7a8d2da6",
   "metadata": {},
   "source": [
    "# 905. Sort Array By Parity"
   ]
  },
  {
   "cell_type": "code",
   "execution_count": 17,
   "id": "2ddd4170",
   "metadata": {},
   "outputs": [],
   "source": [
    "class Solution:\n",
    "    def sortArrayByParity(self, nums: list[int]) -> list[int]:\n",
    "        \"\"\"\n",
    "        Given an integer array nums, move all the even integers at the beginning of the\n",
    "        array followed by all the odd integers.\n",
    "        \"\"\"\n",
    "        # First compute the number of even and odd numbers.\n",
    "        n_even = sum(\n",
    "            1 for num in nums if num % 2 == 0\n",
    "        )  # Even numbers are divisible by 2.\n",
    "        n_odd = len(nums) - n_even\n",
    "        # Now here is where I had a real WWJD (What Would Jaz Do) moment... The old Dave would\n",
    "        # have intialized empty lists and appended them, but the current Dave remembers that\n",
    "        # Jaz explained append has to dynamically resize the list, which can potentially take up\n",
    "        # a lot of memory. So to be more memory efficient I am going to intialize two lists of\n",
    "        # lengths that correspond to the number of even and odd numbers respectively.\n",
    "        even_list = [0] * n_even\n",
    "        odd_list = [0] * n_odd\n",
    "        # Intialize index counters for the even and odd number lists.\n",
    "        even_idx = 0\n",
    "        odd_idx = 0\n",
    "        # For every number.\n",
    "        for num in nums:\n",
    "            # If the current number is even.\n",
    "            if num % 2 == 0:\n",
    "                # Fill the even number list.\n",
    "                even_list[even_idx] = num\n",
    "                # Move the even number index forward.\n",
    "                even_idx += 1\n",
    "            # Else the current number is odd.\n",
    "            else:\n",
    "                # Fill the odd number list.\n",
    "                odd_list[odd_idx] = num\n",
    "                # Move the odd number index forward.\n",
    "                odd_idx += 1\n",
    "        return even_list + odd_list"
   ]
  },
  {
   "cell_type": "code",
   "execution_count": 18,
   "id": "53cec462",
   "metadata": {},
   "outputs": [
    {
     "name": "stdout",
     "output_type": "stream",
     "text": [
      "[2, 4, 3, 1]\n",
      "[0]\n"
     ]
    }
   ],
   "source": [
    "# Run sanity checks.\n",
    "nums_list = [\n",
    "    [\n",
    "        3,\n",
    "        1,\n",
    "        2,\n",
    "        4,\n",
    "    ],  # A: [2,4,3,1], [4,2,3,1], [2,4,1,3], and [4,2,1,3] would all be accepted.\n",
    "    [0],  # A: 0\n",
    "]\n",
    "for nums in nums_list:\n",
    "    solution = Solution()\n",
    "    print(solution.sortArrayByParity(nums))"
   ]
  },
  {
   "cell_type": "markdown",
   "id": "43ed5724",
   "metadata": {},
   "source": [
    "# 456. 132 Pattern (TIME LIMIT EXCEEDED)\n",
    "\n",
    "Notes:\n",
    "\n",
    "* Think of a 132 pattern as a graph with the ordered points (0, 1), (1, 3), and (2, 2)\n",
    "* Traverse the graph from points (0, 1) $\\rightarrow$ (1, 3) $\\rightarrow$ (2, 2), where a 132 pattern would have ordered points where:\n",
    "    * (0, 1) represents a valley—ie minimum y-value.\n",
    "    * (1, 3) represent a peak—ie maximum y-value.\n",
    "    * (2, 2) reprents sea level—ie valley's y-value < sea level's y-value < peak's y-value.\n",
    "* Thus 132 = (0, 1) $\\rightarrow$ (1, 3) $\\rightarrow$ (2, 2) = valley $\\rightarrow$ peak $\\rightarrow$ sea level"
   ]
  },
  {
   "cell_type": "code",
   "execution_count": 19,
   "id": "67d69a9e",
   "metadata": {},
   "outputs": [],
   "source": [
    "class Solution:\n",
    "    ### Approach: traverse left to right and is hella slow ###\n",
    "\n",
    "    def find132pattern(self, nums: list[int]) -> bool:\n",
    "        \"\"\"\n",
    "        Return true if there is a 132 pattern in nums, otherwise, return false.\n",
    "        \"\"\"\n",
    "\n",
    "        # Account for the edge case where there are less than three numbers in nums.\n",
    "        n = len(nums)\n",
    "        if n < 3:\n",
    "            return False\n",
    "        # Intialize the valleys list and the first valley.\n",
    "        valleys = [float(\"inf\")] * n\n",
    "        valley = nums[0]\n",
    "        # Iterate through nums to find potential valleys—ie a number that is smaller\n",
    "        # than its right neighbor.\n",
    "        for i in range(1, n):\n",
    "            # Update the valley list.\n",
    "            valleys[i] = valley\n",
    "            valley = min(valley, nums[i])\n",
    "        # Traverse through nums to identify potential peaks—ie a number that is larger\n",
    "        # than both its neighbors—noting that the first and last number in nums aren't\n",
    "        # eligible to be peaks.\n",
    "        for i in range(1, n - 1):\n",
    "            # If the current number is a peak.\n",
    "            if valleys[i] < nums[i]:\n",
    "                # Search to the right of the peak to find a valid sea level number.\n",
    "                for j in range(i + 1, n):\n",
    "                    # Return true if we find a valid sea level number.\n",
    "                    if valleys[i] < nums[j] < nums[i]:\n",
    "                        return True\n",
    "        return False"
   ]
  },
  {
   "cell_type": "code",
   "execution_count": 20,
   "id": "e6104fc3",
   "metadata": {},
   "outputs": [
    {
     "name": "stdout",
     "output_type": "stream",
     "text": [
      "False\n",
      "True\n",
      "True\n"
     ]
    }
   ],
   "source": [
    "# Run sanity checks.\n",
    "nums_list = [\n",
    "    [1, 2, 3, 4],  # A: False\n",
    "    [3, 1, 4, 2],  # A: True\n",
    "    [-1, 3, 2, 0],  # A: True\n",
    "]\n",
    "for nums in nums_list:\n",
    "    solution = Solution()\n",
    "    print(solution.find132pattern(nums))"
   ]
  },
  {
   "cell_type": "markdown",
   "id": "a5242e98",
   "metadata": {},
   "source": [
    "# 557. Reverse Words in a String III\n"
   ]
  },
  {
   "cell_type": "code",
   "execution_count": 1,
   "id": "8c21044b",
   "metadata": {},
   "outputs": [],
   "source": [
    "class Solution:\n",
    "    def reverseWords(self, s: str) -> str:\n",
    "        \"\"\"\n",
    "        Given a string s, reverse the order of characters in each word\n",
    "        within a sentence while still preserving whitespace and initial word order.\n",
    "        \"\"\"\n",
    "        return \" \".join(word[::-1] for word in s.split())"
   ]
  },
  {
   "cell_type": "code",
   "execution_count": 2,
   "id": "85259fe3",
   "metadata": {},
   "outputs": [
    {
     "name": "stdout",
     "output_type": "stream",
     "text": [
      "s'teL ekat edoCteeL tsetnoc\n",
      "doG gniD\n"
     ]
    }
   ],
   "source": [
    "# Run sanity checks.\n",
    "s_list = [\n",
    "    \"Let's take LeetCode contest\",  # A: \"s'teL ekat edoCteeL tsetnoc\"\n",
    "    \"God Ding\",  # A: \"doG gniD\"\n",
    "]\n",
    "for s in s_list:\n",
    "    solution = Solution()\n",
    "    print(solution.reverseWords(s))"
   ]
  },
  {
   "cell_type": "code",
   "execution_count": null,
   "id": "be348268",
   "metadata": {},
   "outputs": [],
   "source": []
  }
 ],
 "metadata": {
  "kernelspec": {
   "display_name": "Python 3 (ipykernel)",
   "language": "python",
   "name": "python3"
  },
  "language_info": {
   "codemirror_mode": {
    "name": "ipython",
    "version": 3
   },
   "file_extension": ".py",
   "mimetype": "text/x-python",
   "name": "python",
   "nbconvert_exporter": "python",
   "pygments_lexer": "ipython3",
   "version": "3.9.15"
  }
 },
 "nbformat": 4,
 "nbformat_minor": 5
}
