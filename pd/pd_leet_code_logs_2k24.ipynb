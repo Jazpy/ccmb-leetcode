{
 "cells": [
  {
   "cell_type": "markdown",
   "metadata": {},
   "source": [
    "# 1404. Number of Steps to Reduce a Number in Binary Representation to One\n",
    "\n",
    "Notes:\n",
    "- Dave's second recursion :)\n",
    "- For a binary number $b_{n-1} b_{n-2} \\cdots b_1 b_0$, where $b_i$ is the $i^{th}$ bit from the right, the integer value $I$ can be computed as: $I = \\sum_{i=0}^{n-1} b_i \\times 2^i$ ."
   ]
  },
  {
   "cell_type": "code",
   "execution_count": 1,
   "metadata": {},
   "outputs": [],
   "source": [
    "class Solution:\n",
    "    def numSteps(self, s: str) -> int:\n",
    "        \"\"\"\n",
    "        Given the binary representation of an integer as a string s, return the\n",
    "        number of steps to reduce it to 1 under the following rules:\n",
    "\n",
    "        - If the current number is even, you have to divide it by 2.\n",
    "        - If the current number is odd, you have to add 1 to it.\n",
    "        - It is guaranteed that you can always reach one for all test cases.\n",
    "        \"\"\"\n",
    "\n",
    "        # Define a recursive function to count the number of steps.\n",
    "        def process_binary(s: str, steps: int) -> int:\n",
    "            # Base case if s = \"1\" no further steps are needed.\n",
    "            if s == \"1\":\n",
    "                return steps\n",
    "            # If the integer is even (ie the string ends in a \"0\").\n",
    "            if s[-1] == \"0\":\n",
    "                # Divide by 2 (ie remove the last digit) and increment the step count.\n",
    "                return process_binary(s[:-1], steps + 1)\n",
    "            # Else, the integer is odd.\n",
    "            else:\n",
    "                # Binary -> integer conversion.\n",
    "                num = int(s, 2)\n",
    "                # Add 1 to the integer.\n",
    "                num += 1\n",
    "                # Integer -> binary conversion.\n",
    "                new_s = bin(num)[2:]  # Note \"[2:]\" is to remove the \"0b\" prefix.\n",
    "                return process_binary(new_s, steps + 1)\n",
    "\n",
    "        return process_binary(s, 0)"
   ]
  },
  {
   "cell_type": "code",
   "execution_count": 2,
   "metadata": {},
   "outputs": [
    {
     "name": "stdout",
     "output_type": "stream",
     "text": [
      "6\n",
      "1\n",
      "0\n",
      "6\n"
     ]
    }
   ],
   "source": [
    "# Run sanity checks.\n",
    "s_list = [\n",
    "    \"1101\",  # 6\n",
    "    \"10\",  # 1\n",
    "    \"1\",  # 0\n",
    "    \"11000\",  # 6\n",
    "]\n",
    "for s in s_list:\n",
    "    solution = Solution()\n",
    "    print(solution.numSteps(s))"
   ]
  },
  {
   "cell_type": "markdown",
   "metadata": {},
   "source": [
    "# 1442. Count Triplets That Can Form Two Arrays of Equal XOR\n",
    "\n",
    "Notes:\n",
    "- The XOR operation (denoted by `^` in Python and $\\oplus$ in math) between two bits results in 1 if the bits are different, 0 if they are the same, and has several important properties.\n",
    "  - Identity Property: $x \\oplus 0 = x$, ie XORing a number with 0 leaves it unchanged.\n",
    "  - Self-Inverse Property: $x \\oplus x = 0$, ie XORing a number with itself results in 0.\n",
    "  - Commutative Property: $x \\oplus y = y \\oplus x$, ie the order of XOR operations does not matter.\n",
    "  - Associative Property: $(x \\oplus y) \\oplus z = x \\oplus (y \\oplus z)$, ie the grouping of XOR operations does not matter.\n",
    "- Given an array of integers `arr`, the task is to find number of triplets `(i, j, k)` such that:\n",
    "    - $0 \\leq i < j \\leq k < |\\text{arr}|$\n",
    "    -  The XOR of the elements from index `i` to `j-1` is equal to the XOR of the elements from index `j` to `k`.\n",
    "    - $a = \\text{arr}[i] \\oplus \\text{arr}[i + 1] \\oplus \\ldots \\oplus \\text{arr}[j - 1]$\n",
    "    - $b = \\text{arr}[j] \\oplus \\text{arr}[j + 1] \\oplus \\ldots \\oplus \\text{arr}[k]$\n",
    "- The goal is to count the number of triplets where $a = b$, consequently $a = b \\implies a \\oplus b = 0$ $\\therefore$ by the definitions of $a$ and $b$ and the properties of XOR operations:\n",
    "$$(\\text{arr}[i] \\oplus \\text{arr}[i + 1] \\oplus \\ldots \\oplus \\text{arr}[j - 1]) \\oplus (\\text{arr}[j] \\oplus \\text{arr}[j + 1] \\oplus \\ldots \\oplus \\text{arr}[k]) = \\text{arr}[i] \\oplus \\text{arr}[i + 1] \\oplus \\ldots \\oplus \\text{arr}[k] = 0 \\; .$$\n",
    "- Let $\\text{prefix\\_xor}[l] = \\text{arr}[0] \\oplus \\text{arr}[1] \\oplus \\cdots \\oplus \\text{arr}[l]$ denote the cumulative XOR from the beginning of the array up to the element at index `l`. Now consider the XOR of the subarray from `i` to `k`, $\\text{arr}[i] \\oplus \\text{arr}[i+1] \\oplus \\cdots \\oplus \\text{arr}[k]$,  by the properties of XOR this can be written in terms of $\\text{prefix\\_xor}[l]$:\n",
    "$$\\text{arr}[i] \\oplus \\text{arr}[i+1] \\oplus \\cdots \\oplus \\text{arr}[k] = \\text{prefix\\_xor}[k] \\oplus \\text{prefix\\_xor}[i-1] \\implies \\text{prefix\\_xor}[k] \\oplus \\text{prefix\\_xor}[i-1] = 0 \\implies \\text{prefix\\_xor}[k] = \\text{prefix\\_xor}[i-1]$$\n",
    "- With this in hand for each index `k`, the objective is determine how many indices `i` exist such that, $\\text{prefix\\_xor}[k] = \\text{prefix\\_xor}[i-1]$\n"
   ]
  },
  {
   "cell_type": "code",
   "execution_count": 3,
   "metadata": {},
   "outputs": [],
   "source": [
    "class Solution:\n",
    "    def countTriplets(self, arr: list[int]) -> int:\n",
    "        \"\"\"\n",
    "        Given an array of integers arr. We want to select three indices i, j\n",
    "        and k where (0 <= i < j <= k < arr.length). Let's define a and b as\n",
    "        follows:\n",
    "        - a = arr[i] ^ arr[i + 1] ^ ... ^ arr[j - 1]\n",
    "        - b = arr[j] ^ arr[j + 1] ^ ... ^ arr[k]\n",
    "        Note that ^ denotes the bitwise-xor operation. Return the number of\n",
    "        triplets (i, j and k) Where a == b.\n",
    "        \"\"\"\n",
    "        # Initialize the cumulative XOR up to the current element.\n",
    "        prefix_xor = 0\n",
    "        # Initialize the number of triplets.\n",
    "        n_triplets = 0\n",
    "        # Initialize a dictionary to keep track of how many times each prefix_xor value has been seen.\n",
    "        prefix_counts = {0: 1}\n",
    "        # Initialize a dictionary to keep track of the sum of indices where each prefix_xor value has been seen.\n",
    "        prefix_sums = {\n",
    "            0: -1\n",
    "        }  # -1 is to account for the fact that the first element is at index 0.\n",
    "        # Iterate through each element in the array.\n",
    "        for k in range(len(arr)):\n",
    "            # Update prefix_xor with the current element.\n",
    "            prefix_xor ^= arr[k]\n",
    "            # If the current prefix_xor has been seen before in prefix_counts.\n",
    "            if prefix_xor in prefix_counts:\n",
    "                # Calculate the number of valid triplets using the formula:\n",
    "                # prefix_counts[prefix_xor] * k: Total number of possible subarrays ending at k.\n",
    "                # prefix_sums[prefix_xor]: Sum of all previous indices where this prefix_xor was seen.\n",
    "                # prefix_counts[prefix_xor]: Adjusting for the count of prefix_xor itself.\n",
    "                n_triplets += (\n",
    "                    prefix_counts[prefix_xor] * k\n",
    "                    - prefix_sums[prefix_xor]\n",
    "                    - prefix_counts[prefix_xor]\n",
    "                )\n",
    "                # Increment the count of current prefix_xor in prefix_counts.\n",
    "                prefix_counts[prefix_xor] += 1\n",
    "                # Update the sum of indices for the current prefix_xor in prefix_sums by adding the current index k.\n",
    "                prefix_sums[prefix_xor] += k\n",
    "            # Else, if the current prefix_xor has not been seen before.\n",
    "            else:\n",
    "                # Initialize the count of the new prefix_xor in prefix_counts.\n",
    "                prefix_counts[prefix_xor] = 1\n",
    "                # Initialize the sum of indices for the current prefix_xor to the current index k in prefix_sums.\n",
    "                prefix_sums[prefix_xor] = k\n",
    "        return n_triplets"
   ]
  },
  {
   "cell_type": "code",
   "execution_count": 4,
   "metadata": {},
   "outputs": [
    {
     "name": "stdout",
     "output_type": "stream",
     "text": [
      "4\n",
      "10\n"
     ]
    }
   ],
   "source": [
    "# Run sanity checks.\n",
    "arr_list = [\n",
    "    [2, 3, 1, 6, 7],  # 4\n",
    "    [1, 1, 1, 1, 1],  # 10\n",
    "]\n",
    "for arr in arr_list:\n",
    "    solution = Solution()\n",
    "    print(solution.countTriplets(arr))"
   ]
  },
  {
   "cell_type": "markdown",
   "metadata": {},
   "source": [
    "# 260. Single Number III"
   ]
  },
  {
   "cell_type": "code",
   "execution_count": 5,
   "metadata": {},
   "outputs": [],
   "source": [
    "class Solution:\n",
    "    def singleNumber(self, nums: list[int]) -> list[int]:\n",
    "        \"\"\"\n",
    "        Given an integer array nums, in which exactly two elements appear only\n",
    "        once and all the other elements appear exactly twice. Find the two\n",
    "        elements that appear only once. You can return the answer in any order.\n",
    "\n",
    "        You must write an algorithm that runs in linear runtime complexity and\n",
    "        uses only constant extra space.\n",
    "        \"\"\"\n",
    "        # Initialize a set of unique numbers.\n",
    "        unique_nums = set()\n",
    "        # Iterate through each number in nums.\n",
    "        for num in nums:\n",
    "            # If the number has not been seen before.\n",
    "            if num not in unique_nums:\n",
    "                # Add it to the set.\n",
    "                unique_nums.add(num)\n",
    "            # Else, the number has been seen before.\n",
    "            else:\n",
    "                # Remove it from the set.\n",
    "                unique_nums.remove(num)\n",
    "        return list(unique_nums)"
   ]
  },
  {
   "cell_type": "code",
   "execution_count": 6,
   "metadata": {},
   "outputs": [
    {
     "name": "stdout",
     "output_type": "stream",
     "text": [
      "[3, 5]\n",
      "[0, -1]\n",
      "[0, 1]\n"
     ]
    }
   ],
   "source": [
    "# Run sanity checks.\n",
    "nums_list = [\n",
    "    [1, 2, 1, 3, 2, 5],  # [3, 5] or [5, 3]\n",
    "    [-1, 0],  # [-1, 0] or [0, -1]\n",
    "    [0, 1],  # [0, 1] or [1, 0]\n",
    "]\n",
    "for nums in nums_list:\n",
    "    solution = Solution()\n",
    "    print(solution.singleNumber(nums))"
   ]
  },
  {
   "cell_type": "markdown",
   "metadata": {},
   "source": [
    "# 3110. Score of a String"
   ]
  },
  {
   "cell_type": "code",
   "execution_count": 1,
   "metadata": {},
   "outputs": [],
   "source": [
    "class Solution:\n",
    "    def scoreOfString(self, s: str) -> int:\n",
    "        \"\"\"\n",
    "        You are given a string s. The score of a string is defined as the sum\n",
    "        of the absolute difference between the ASCII values of adjacent\n",
    "        characters.\n",
    "\n",
    "        Return the score of s.\n",
    "        \"\"\"\n",
    "        # Find the sum of the absolute differences between the ASCII values by\n",
    "        # using zip to iterate through pairs of adjacent characters.\n",
    "        return sum(abs(ord(a) - ord(b)) for a, b in zip(s, s[1:]))"
   ]
  },
  {
   "cell_type": "code",
   "execution_count": 2,
   "metadata": {},
   "outputs": [
    {
     "name": "stdout",
     "output_type": "stream",
     "text": [
      "13\n",
      "50\n"
     ]
    }
   ],
   "source": [
    "# Run sanity checks.\n",
    "s_list = [\n",
    "    \"hello\",  # 13\n",
    "    \"zaz\",  # 50\n",
    "]\n",
    "for s in s_list:\n",
    "    solution = Solution()\n",
    "    print(solution.scoreOfString(s))"
   ]
  }
 ],
 "metadata": {
  "kernelspec": {
   "display_name": "pd-env",
   "language": "python",
   "name": "python3"
  },
  "language_info": {
   "codemirror_mode": {
    "name": "ipython",
    "version": 3
   },
   "file_extension": ".py",
   "mimetype": "text/x-python",
   "name": "python",
   "nbconvert_exporter": "python",
   "pygments_lexer": "ipython3",
   "version": "3.10.12"
  }
 },
 "nbformat": 4,
 "nbformat_minor": 2
}
