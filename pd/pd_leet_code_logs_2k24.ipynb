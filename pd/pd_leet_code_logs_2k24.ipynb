{
 "cells": [
  {
   "cell_type": "markdown",
   "metadata": {},
   "source": [
    "# 1404. Number of Steps to Reduce a Number in Binary Representation to One\n",
    "\n",
    "Notes:\n",
    "- Dave's second recursion :)\n",
    "- For a binary number $b_{n-1} b_{n-2} \\cdots b_1 b_0$, where $b_i$ is the $i^{th}$ bit from the right, the integer value $I$ can be computed as: $I = \\sum_{i=0}^{n-1} b_i \\times 2^i$ ."
   ]
  },
  {
   "cell_type": "code",
   "execution_count": 23,
   "metadata": {},
   "outputs": [],
   "source": [
    "class Solution:\n",
    "    def numSteps(self, s: str) -> int:\n",
    "        \"\"\"\n",
    "        Given the binary representation of an integer as a string s, return the number of steps to reduce it to 1 under the following rules:\n",
    "\n",
    "        - If the current number is even, you have to divide it by 2.\n",
    "        - If the current number is odd, you have to add 1 to it.\n",
    "        - It is guaranteed that you can always reach one for all test cases.\n",
    "        \"\"\"\n",
    "\n",
    "        # Define a recursive function to count the number of steps.\n",
    "        def process_binary(s: str, steps: int) -> int:\n",
    "            # Base case if s = \"1\" no further steps are needed.\n",
    "            if s == \"1\":\n",
    "                return steps\n",
    "            # If the integer is even (ie the string ends in a \"0\").\n",
    "            if s[-1] == \"0\":\n",
    "                # Divide by 2 (ie remove the last digit) and increment the step count.\n",
    "                return process_binary(s[:-1], steps + 1)\n",
    "            # Else, the integer is odd.\n",
    "            else:\n",
    "                # Binary -> integer conversion.\n",
    "                num = int(s, 2)\n",
    "                # Add 1 to the integer.\n",
    "                num += 1\n",
    "                # Integer -> binary conversion.\n",
    "                new_s = bin(num)[2:]  # Note \"[2:]\" is to remove the \"0b\" prefix.\n",
    "                return process_binary(new_s, steps + 1)\n",
    "\n",
    "        return process_binary(s, 0)"
   ]
  },
  {
   "cell_type": "code",
   "execution_count": 24,
   "metadata": {},
   "outputs": [
    {
     "name": "stdout",
     "output_type": "stream",
     "text": [
      "6\n",
      "1\n",
      "0\n",
      "6\n"
     ]
    }
   ],
   "source": [
    "# Run sanity checks.\n",
    "s_list = [\n",
    "    \"1101\",  # 6\n",
    "    \"10\",  # 1\n",
    "    \"1\",  # 0\n",
    "    \"11000\",  # 6\n",
    "]\n",
    "for s in s_list:\n",
    "    solution = Solution()\n",
    "    print(solution.numSteps(s))"
   ]
  }
 ],
 "metadata": {
  "kernelspec": {
   "display_name": "pd-env",
   "language": "python",
   "name": "python3"
  },
  "language_info": {
   "codemirror_mode": {
    "name": "ipython",
    "version": 3
   },
   "file_extension": ".py",
   "mimetype": "text/x-python",
   "name": "python",
   "nbconvert_exporter": "python",
   "pygments_lexer": "ipython3",
   "version": "3.10.12"
  }
 },
 "nbformat": 4,
 "nbformat_minor": 2
}
